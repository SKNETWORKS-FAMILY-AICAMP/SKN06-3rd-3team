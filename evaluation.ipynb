{
 "cells": [
  {
   "cell_type": "code",
   "execution_count": 3,
   "metadata": {},
   "outputs": [
    {
     "data": {
      "text/plain": [
       "True"
      ]
     },
     "execution_count": 3,
     "metadata": {},
     "output_type": "execute_result"
    }
   ],
   "source": [
    "# Load and Split\n",
    "from langchain_community.document_loaders import TextLoader\n",
    "from langchain_text_splitters import RecursiveCharacterTextSplitter\n",
    "from langchain_chroma import Chroma\n",
    "\n",
    "from langchain_openai import ChatOpenAI, OpenAIEmbeddings\n",
    "from langchain.prompts import PromptTemplate\n",
    "from langchain_core.output_parsers import JsonOutputParser,StrOutputParser\n",
    "\n",
    "from langchain import hub\n",
    "from langchain_core.runnables import RunnablePassthrough, RunnableLambda\n",
    "from langchain_core.documents import Document\n",
    "\n",
    "from ragas import EvaluationDataset, RunConfig, evaluate\n",
    "from ragas.metrics import (\n",
    "    LLMContextRecall, Faithfulness, LLMContextPrecisionWithReference, AnswerRelevancy\n",
    ")\n",
    "from ragas.llms import LangchainLLMWrapper\n",
    "from ragas.embeddings import LangchainEmbeddingsWrapper\n",
    "\n",
    "from pydantic import BaseModel, Field\n",
    "\n",
    "from textwrap import dedent\n",
    "from operator import itemgetter\n",
    "from pprint import pprint\n",
    "import random\n",
    "\n",
    "from dotenv import load_dotenv\n",
    "load_dotenv()\n"
   ]
  },
  {
   "cell_type": "code",
   "execution_count": 4,
   "metadata": {},
   "outputs": [
    {
     "data": {
      "text/plain": [
       "4222"
      ]
     },
     "execution_count": 4,
     "metadata": {},
     "output_type": "execute_result"
    }
   ],
   "source": [
    "COLLECTION_NAME = \"medicine_docs\"\n",
    "DOC_PATH = 'data/medicine.txt'\n",
    "# Text Loading\n",
    "loader = TextLoader(DOC_PATH, encoding='utf-8')\n",
    "\n",
    "# 문서 load and split\n",
    "splitter = RecursiveCharacterTextSplitter(\n",
    "    chunk_size=1000,\n",
    "    chunk_overlap=100\n",
    ")\n",
    "\n",
    "docs = loader.load_and_split(splitter)\n",
    "\n",
    "len(docs)"
   ]
  },
  {
   "cell_type": "code",
   "execution_count": 5,
   "metadata": {},
   "outputs": [
    {
     "data": {
      "text/plain": [
       "3"
      ]
     },
     "execution_count": 5,
     "metadata": {},
     "output_type": "execute_result"
    }
   ],
   "source": [
    "### 평가 데이터로 사용할 context 추출\n",
    "total_samples = 3\n",
    "\n",
    "# index shuffle 후 total_samples만큼 context 추출\n",
    "\n",
    "idx_list = list(range(len(docs)))\n",
    "random.shuffle(idx_list)\n",
    "\n",
    "eval_context_list = []\n",
    "while len(eval_context_list) < total_samples:\n",
    "    idx = idx_list.pop()\n",
    "    context = docs[idx].page_content\n",
    "    if len(context) > 100: # 100글자 이상인 text만 사용\n",
    "        eval_context_list.append(context)\n",
    "\n",
    "len(eval_context_list)"
   ]
  },
  {
   "cell_type": "code",
   "execution_count": 6,
   "metadata": {},
   "outputs": [],
   "source": [
    "# user_input: 질문\n",
    "# ####### retrieved_contexts: 검색된 문서의 내용(page_content)들\n",
    "# qa_context: 질문 답변 쌍을 만들 때 참고한 context\n",
    "        # retrieved_contexts: 검색된 문서의 내용은 실제 RAG 실행시 넣는다.\n",
    "        # response: 모델의 답변 - 실제 RAG 실행시 넣는다.\n",
    "# reference: 정답\n",
    "class EvalDatasetSchema(BaseModel):\n",
    "    user_input: str = Field(..., title=\"질문(question)\")\n",
    "    qa_context: list[str] = Field(..., title=\"질문-답변 쌍을 만들 때 참조한 context.\")\n",
    "    reference: str = Field(..., title=\"질문의 정답(ground truth)\")\n",
    "\n",
    "parser = JsonOutputParser(pydantic_object=EvalDatasetSchema)\n",
    "\n",
    "eval_model = ChatOpenAI(model=\"gpt-4o\")\n",
    "prompt_template = PromptTemplate.from_template(\n",
    "    template=dedent(\"\"\"\n",
    "        당신은 RAG 평가를 위해 질문과 정답 쌍을 생성하는 인공지능 비서입니다.\n",
    "        다음 [Context] 에 문서가 주어지면 해당 문서를 기반으로 {num_questions}개의 질문을 생성하세요. \n",
    "\n",
    "        질문과 정답을 생성한 후 아래의 출력 형식 GUIDE 에 맞게 생성합니다.\n",
    "        질문은 반드시 [context] 문서에 있는 정보를 바탕으로 생성해야 합니다. [context]에 없는 내용을 가지고 질문-답변을 절대 만들면 안됩니다.\n",
    "        질문은 간결하게 작성합니다.\n",
    "        하나의 질문에는 한 가지씩만 내용만 작성합니다. \n",
    "        질문을 만들 때 \"제공된 문맥에서\", \"문서에 설명된 대로\", \"주어진 문서에 따라\" 또는 이와 유사한 말을 하지 마세요.\n",
    "        질문을 만들 때, 구체적인 증상에 따른 약을 추천받는 질문만 하세요.\n",
    "        구체적인 증상에 따른 약 추천받는 질문만 하세요. 제발. 다른 질문은 하지 마세요.\n",
    "        질문을 할 때는 구체적인 약 이름을 기반으로 질문하세요. \"이 약\" 또는 이와 유사한 말을 사용하지 마세요.\n",
    "\n",
    "        정답은 반드시 [context]에 있는 정보를 바탕으로 작성합니다. 없는 내용을 추가하지 않습니다.\n",
    "        정답은 반드시 [context]에 있는 구체적인 약 이름을 명시해서 답변하세요. \n",
    "        정답에는 구체적인 약 이름으로 추천해서 답변하세요.\n",
    "        정답에 \"이 약\"이라는 말을 쓰지 마세요. \"이 약\"이라는 말을 쓰지 마. 제발. 쓰지 말라면 좀 쓰지마.\n",
    "\n",
    "        질문과 답변을 만들고 그 내용이 [context] 에 있는 항목인지 다시 한번 확인합니다.\n",
    "        생성된 질문-답변 쌍은 반드시 dictionary 형태로 정의하고 list로 묶어서 반환해야 합니다.\n",
    "        질문-답변 쌍은 반드시 {num_questions}개를 만들어 주십시오.\n",
    "\n",
    "        출력 형식: {format_instructions}\n",
    "\n",
    "        [Context]\n",
    "        {context}\n",
    "        \"\"\"\n",
    "    ),\n",
    "    partial_variables={\"format_instructions\":parser.get_format_instructions()}\n",
    ")\n",
    "# print(prompt_template.template)\n",
    "\n",
    "eval_dataset_generator = prompt_template | eval_model | parser"
   ]
  },
  {
   "cell_type": "code",
   "execution_count": 7,
   "metadata": {},
   "outputs": [],
   "source": [
    "############################################################\n",
    "# eval_context_list 모두로 만들기\n",
    "# \n",
    "# 생성된 질문-답변을 눈으로 보고 검증한 및 수정해야 한다.\n",
    "############################################################\n",
    "eval_data_list = []\n",
    "num_questions = 5\n",
    "for context in eval_context_list:\n",
    "    _eval_data_list = eval_dataset_generator.invoke({\"context\":context, \"num_questions\":num_questions})\n",
    "    eval_data_list.extend(_eval_data_list)"
   ]
  },
  {
   "cell_type": "code",
   "execution_count": 8,
   "metadata": {},
   "outputs": [
    {
     "data": {
      "text/plain": [
       "(15, 3)"
      ]
     },
     "execution_count": 8,
     "metadata": {},
     "output_type": "execute_result"
    }
   ],
   "source": [
    "import pandas as pd\n",
    "eval_df = pd.DataFrame(eval_data_list)\n",
    "eval_df.shape"
   ]
  },
  {
   "cell_type": "code",
   "execution_count": 9,
   "metadata": {},
   "outputs": [
    {
     "data": {
      "text/html": [
       "<div>\n",
       "<style scoped>\n",
       "    .dataframe tbody tr th:only-of-type {\n",
       "        vertical-align: middle;\n",
       "    }\n",
       "\n",
       "    .dataframe tbody tr th {\n",
       "        vertical-align: top;\n",
       "    }\n",
       "\n",
       "    .dataframe thead th {\n",
       "        text-align: right;\n",
       "    }\n",
       "</style>\n",
       "<table border=\"1\" class=\"dataframe\">\n",
       "  <thead>\n",
       "    <tr style=\"text-align: right;\">\n",
       "      <th></th>\n",
       "      <th>user_input</th>\n",
       "      <th>qa_context</th>\n",
       "      <th>reference</th>\n",
       "    </tr>\n",
       "  </thead>\n",
       "  <tbody>\n",
       "    <tr>\n",
       "      <th>10</th>\n",
       "      <td>육체피로 시 어떤 약을 복용할 수 있나요?</td>\n",
       "      <td>[키즈하이츄어블정]</td>\n",
       "      <td>육체피로 시 키즈하이츄어블정을 복용할 수 있습니다.</td>\n",
       "    </tr>\n",
       "    <tr>\n",
       "      <th>11</th>\n",
       "      <td>임신 중 비타민 보충을 위해 어떤 약을 사용할 수 있나요?</td>\n",
       "      <td>[키즈하이츄어블정]</td>\n",
       "      <td>임신 중 비타민 보충을 위해 키즈하이츄어블정을 사용할 수 있습니다.</td>\n",
       "    </tr>\n",
       "    <tr>\n",
       "      <th>12</th>\n",
       "      <td>야맹증 예방에 적합한 약은 무엇인가요?</td>\n",
       "      <td>[키즈하이츄어블정]</td>\n",
       "      <td>야맹증 예방을 위해 키즈하이츄어블정을 사용할 수 있습니다.</td>\n",
       "    </tr>\n",
       "    <tr>\n",
       "      <th>13</th>\n",
       "      <td>뼈 발육 불량 개선을 위해 어떤 약을 추천하시나요?</td>\n",
       "      <td>[키즈하이츄어블정]</td>\n",
       "      <td>뼈 발육 불량 개선에는 키즈하이츄어블정을 추천합니다.</td>\n",
       "    </tr>\n",
       "    <tr>\n",
       "      <th>14</th>\n",
       "      <td>비타민 A, D, E 보급을 위한 약은 무엇인가요?</td>\n",
       "      <td>[키즈하이츄어블정]</td>\n",
       "      <td>비타민 A, D, E 보급을 위해 키즈하이츄어블정을 복용할 수 있습니다.</td>\n",
       "    </tr>\n",
       "  </tbody>\n",
       "</table>\n",
       "</div>"
      ],
      "text/plain": [
       "                          user_input  qa_context  \\\n",
       "10           육체피로 시 어떤 약을 복용할 수 있나요?  [키즈하이츄어블정]   \n",
       "11  임신 중 비타민 보충을 위해 어떤 약을 사용할 수 있나요?  [키즈하이츄어블정]   \n",
       "12             야맹증 예방에 적합한 약은 무엇인가요?  [키즈하이츄어블정]   \n",
       "13      뼈 발육 불량 개선을 위해 어떤 약을 추천하시나요?  [키즈하이츄어블정]   \n",
       "14      비타민 A, D, E 보급을 위한 약은 무엇인가요?  [키즈하이츄어블정]   \n",
       "\n",
       "                                   reference  \n",
       "10              육체피로 시 키즈하이츄어블정을 복용할 수 있습니다.  \n",
       "11     임신 중 비타민 보충을 위해 키즈하이츄어블정을 사용할 수 있습니다.  \n",
       "12          야맹증 예방을 위해 키즈하이츄어블정을 사용할 수 있습니다.  \n",
       "13             뼈 발육 불량 개선에는 키즈하이츄어블정을 추천합니다.  \n",
       "14  비타민 A, D, E 보급을 위해 키즈하이츄어블정을 복용할 수 있습니다.  "
      ]
     },
     "execution_count": 9,
     "metadata": {},
     "output_type": "execute_result"
    }
   ],
   "source": [
    "## 생성 된 질문/답 쌍 확인\n",
    "eval_df.head()\n",
    "eval_df.tail()"
   ]
  },
  {
   "cell_type": "code",
   "execution_count": null,
   "metadata": {},
   "outputs": [],
   "source": []
  },
  {
   "cell_type": "markdown",
   "metadata": {},
   "source": [
    "# Chain 구성"
   ]
  },
  {
   "cell_type": "code",
   "execution_count": 10,
   "metadata": {},
   "outputs": [],
   "source": [
    "# Vector Store 연결\n",
    "COLLECTION_NAME = \"medicine_docs\"\n",
    "PERSIST_DIRECTORY = \"vector_store/chroma/medicine_db\"\n",
    "embedding_model = OpenAIEmbeddings(model=\"text-embedding-3-small\")\n",
    "vector_store = Chroma(\n",
    "    embedding_function=embedding_model,\n",
    "    collection_name=COLLECTION_NAME,\n",
    "    persist_directory=PERSIST_DIRECTORY\n",
    ")"
   ]
  },
  {
   "cell_type": "code",
   "execution_count": 11,
   "metadata": {},
   "outputs": [
    {
     "data": {
      "text/plain": [
       "4222"
      ]
     },
     "execution_count": 11,
     "metadata": {},
     "output_type": "execute_result"
    }
   ],
   "source": [
    "vector_store._collection.count()"
   ]
  },
  {
   "cell_type": "code",
   "execution_count": 12,
   "metadata": {},
   "outputs": [],
   "source": [
    "# Chain 구성\n",
    "# prompt template. langchain hub에 등록된 것을 가져와서 사용.\n",
    "prompt_template = hub.pull(\"rlm/rag-prompt\")\n",
    "# prompt_template\n",
    "\n",
    "# Retriever 생성\n",
    "retriever = vector_store.as_retriever(\n",
    "    search_type='mmr',\n",
    "    search_kwargs={\n",
    "        'k':3,\n",
    "        'fetch_k':10,\n",
    "        'lambda_mult':0.5\n",
    "    }\n",
    ")\n",
    "model = ChatOpenAI(model=\"gpt-4o-mini\")\n",
    "\n",
    "def format_docs(src_docs:dict[str, list[Document]]) -> str:\n",
    "    \"\"\"list[Document]: Vector Store에서 검색한 context들에서 \n",
    "    page_content만 추출해서 하나의 문자열로 합쳐서 반환\"\"\"\n",
    "    docs = src_docs['context']\n",
    "    return \"\\n\\n\".join([doc.page_content for doc in docs])\n",
    "\n",
    "def str_from_documents(docs: list[Document]) -> list[str]:\n",
    "    \"\"\"list[Document]에서 page_content 값들만 추출한 list를 반환.\"\"\"\n",
    "    return [doc.page_content for doc in docs]\n",
    "\n",
    "rag_chain = (\n",
    "    RunnablePassthrough() # rag chain을 RunnableSequence로 만들기 위해 Runnable인 것으로 시작.\n",
    "    | {\n",
    "        \"context\": retriever, \"question\":RunnablePassthrough()\n",
    "    } # retriver -> {\"context\":list[Document], \"question\":\"user input\"}\n",
    "    | {\n",
    "        # 앞에서 넘어온 dictionary에서 context(List[Document])를 추출 -> page_content값들을 list로 반환. list[str]\n",
    "        \"source_context\" : itemgetter(\"context\") | RunnableLambda(str_from_documents), \n",
    "        \"llm_answer\": {\n",
    "            # {\"context\":list[Document]} -> str(page_content들만 모은 string)\n",
    "            \"context\": RunnableLambda(format_docs), \"question\":itemgetter(\"question\")\n",
    "        } | prompt_template | model | StrOutputParser()  # LLM 응답 처리 chain. \n",
    "    }\n",
    ")"
   ]
  },
  {
   "cell_type": "code",
   "execution_count": 13,
   "metadata": {},
   "outputs": [
    {
     "data": {
      "text/plain": [
       "0           위·십이지장궤양에 어떤 약을 사용할 수 있나요?\n",
       "1        위염 증상을 완화하기 위해 추천되는 약은 무엇인가요?\n",
       "2        위산과다로 고생 중인데 어떤 약을 복용하면 좋을까요?\n",
       "3                  속쓰림에 효과적인 약은 무엇인가요?\n",
       "4            구역과 구토에 도움이 되는 약을 알고 싶어요.\n",
       "5     혈액 이상이 있는 환자가 복용할 수 있는 약은 무엇인가요?\n",
       "6           간경화 환자가 복용할 수 있는 약은 무엇인가요?\n",
       "7     신장 장애가 있는 환자가 복용할 수 있는 약은 무엇인가요?\n",
       "8      심장 기능 부전 환자가 복용할 수 있는 약은 무엇인가요?\n",
       "9           고혈압 환자가 복용할 수 있는 약은 무엇인가요?\n",
       "10             육체피로 시 어떤 약을 복용할 수 있나요?\n",
       "11    임신 중 비타민 보충을 위해 어떤 약을 사용할 수 있나요?\n",
       "12               야맹증 예방에 적합한 약은 무엇인가요?\n",
       "13        뼈 발육 불량 개선을 위해 어떤 약을 추천하시나요?\n",
       "14        비타민 A, D, E 보급을 위한 약은 무엇인가요?\n",
       "Name: user_input, dtype: object"
      ]
     },
     "execution_count": 13,
     "metadata": {},
     "output_type": "execute_result"
    }
   ],
   "source": [
    "eval_df['user_input']"
   ]
  },
  {
   "cell_type": "code",
   "execution_count": 14,
   "metadata": {},
   "outputs": [],
   "source": [
    "# rag_chain에 평가 질문을 입력해서 context들과 모델답변을 응답 받아 eval_dataset(eval_df)에 추가.\n",
    "context_list = []\n",
    "response_list = []\n",
    "\n",
    "for user_input in eval_df['user_input']:\n",
    "    res = rag_chain.invoke(user_input)\n",
    "    context_list.append(res['source_context'])\n",
    "    response_list.append(res['llm_answer'])"
   ]
  },
  {
   "cell_type": "code",
   "execution_count": 15,
   "metadata": {},
   "outputs": [
    {
     "name": "stdout",
     "output_type": "stream",
     "text": [
      "15 15\n"
     ]
    }
   ],
   "source": [
    "print(len(context_list), len(response_list))\n",
    "# pprint(context_list[:2])\n",
    "# pprint(response_list[:2])"
   ]
  },
  {
   "cell_type": "code",
   "execution_count": 16,
   "metadata": {},
   "outputs": [
    {
     "data": {
      "text/plain": [
       "['위·십이지장궤양에는 이든알마게이트정, 일양바이오알마게이트정, 이탄칼정과 같은 약을 사용할 수 있습니다. 이들 약물은 제산작용 및 증상 개선에 효과적입니다. 복용 전 반드시 의사나 약사와 상담하는 것이 중요합니다.',\n",
       " '위염 증상을 완화하기 위해 추천되는 특정 약물에 대한 정보는 제공되지 않았습니다. 위염 증상 완화에 대한 약물은 일반적으로 의사와 상담 후 사용해야 합니다. 따라서 정확한 약물 정보는 전문가에게 문의하는 것이 좋습니다.',\n",
       " '위산과다로 고생 중이라면 위스타산이나 위푸린에스산을 고려해볼 수 있습니다. 두 약 모두 15세 이상 성인이 하루 3회, 식후 또는 식간에 복용하는 것이 좋습니다. 그러나 2주 이상 복용해도 증상이 개선되지 않으면 즉시 복용을 중단하고 의사 또는 약사와 상담해야 합니다.',\n",
       " '속쓰림에 효과적인 약으로는 속크린에스정이 있습니다. 이 약은 위산과다, 속쓰림, 소화불량 등의 증상에 사용됩니다. 복용 전 의사나 약사와 상담하는 것이 좋습니다.',\n",
       " '어떤 특정한 약에 대한 정보는 제공되지 않았습니다. 구역과 구토에 도움이 되는 약을 원하신다면 의사나 약사와 상담하는 것이 좋습니다. 그들은 귀하의 상황에 맞는 적절한 약을 추천해 줄 수 있습니다.',\n",
       " '혈액 이상이 있는 환자는 약 복용 전에 의사나 약사와 상의해야 합니다. 특정 약물은 이러한 환자에게 적합하지 않을 수 있으며, 출혈 경향이 있는 환자에게도 주의가 필요합니다. 따라서 정확한 약물은 전문가의 조언을 통해 결정해야 합니다.',\n",
       " '간경화 환자는 특정 약물을 복용하기 전에 반드시 의사 또는 약사와 상담해야 합니다. 일반적으로 간장애가 있는 환자는 피해야 할 약물이 많으므로, 적절한 치료와 약물 선택이 중요합니다. 구체적인 약물에 대한 정보는 의료 전문가에게 문의하는 것이 가장 좋습니다.',\n",
       " '신장 장애가 있는 환자는 특정 약을 복용하기 전에 반드시 의사 또는 약사와 상담해야 합니다. 이와 관련된 약물의 복용은 주의가 필요하며, 환자의 상태에 따라 다를 수 있습니다. 정확한 약물 정보는 의료 전문가에게 문의하는 것이 좋습니다.',\n",
       " '심장 기능 부전 환자는 일반적으로 심장에 부담을 주지 않는 약물을 복용해야 하며, 특정 약물 사용에 주의가 필요합니다. 예를 들어, 덱스트론정(덱시부프로펜)은 심장기능부전 환자에게 사용하지 않아야 합니다. 심장 질환이 있는 환자는 의사와 상담하여 적절한 약물을 결정하는 것이 중요합니다.',\n",
       " '고혈압 환자는 의사 또는 약사와 상담 후 약물을 복용해야 합니다. 일반적으로 고혈압 환자에게는 심혈관계 위험을 감소시키기 위한 약물, 예를 들어 경보아스피린장용정과 같은 혈전 생성 억제제가 사용될 수 있습니다. 그러나 개인의 건강 상태에 따라 적절한 약이 다를 수 있으므로 반드시 전문가의 지시를 따라야 합니다.',\n",
       " '육체피로 시 복용할 수 있는 약으로는 센스온스피드액, 투엑스비츄어블정, 그리고 투엑스비콘드로800정이 있습니다. 이들 약물은 비타민 및 미네랄을 보급하여 체력 회복을 도와줍니다. 복용 전에는 반드시 의사나 약사와 상담하는 것이 좋습니다.',\n",
       " '임신 중 비타민 보충을 위해 벤포타임정, 네프비타정, 경남비타민씨정 등을 사용할 수 있습니다. 그러나 이 약들을 복용하기 전에 반드시 의사나 약사와 상담해야 합니다. 각 약물의 용법과 주의사항을 잘 지켜야 합니다.',\n",
       " '야맹증 예방에 적합한 약에 대한 정보는 제공된 내용에 포함되어 있지 않습니다. 따라서 어떤 약이 야맹증 예방에 적합한지 알 수 없습니다. 궁금한 점에 대해 더 조사하거나 전문의와 상담하는 것이 좋습니다.',\n",
       " '뼈 발육 불량 개선을 위해 액티진맥스정을 추천합니다. 이 약은 비타민 D, E, B군을 포함하여 뼈와 이의 발육 불량 예방에 도움을 줍니다. 만 8세 이상 어린이 및 성인은 1일 1회 복용할 수 있습니다.',\n",
       " '비타민 A, D, E 보급을 위한 약으로는 \"비타엔젤츄어블정\"과 \"미네비타브이정\"이 있습니다. 이들 약은 육체피로, 임신·수유기, 병중·병후의 비타민 보급 및 관련 증상 완화에 사용됩니다. 복용 시 주의사항이 있으니 사용 전에 의사 또는 약사와 상담하는 것이 좋습니다.']"
      ]
     },
     "execution_count": 16,
     "metadata": {},
     "output_type": "execute_result"
    }
   ],
   "source": [
    "response_list"
   ]
  },
  {
   "cell_type": "code",
   "execution_count": 17,
   "metadata": {},
   "outputs": [],
   "source": [
    "eval_df[\"retrieved_contexts\"] = context_list # context 추가\n",
    "eval_df[\"response\"] = response_list   # 정답 추가"
   ]
  },
  {
   "cell_type": "code",
   "execution_count": 18,
   "metadata": {},
   "outputs": [
    {
     "data": {
      "text/html": [
       "<div>\n",
       "<style scoped>\n",
       "    .dataframe tbody tr th:only-of-type {\n",
       "        vertical-align: middle;\n",
       "    }\n",
       "\n",
       "    .dataframe tbody tr th {\n",
       "        vertical-align: top;\n",
       "    }\n",
       "\n",
       "    .dataframe thead th {\n",
       "        text-align: right;\n",
       "    }\n",
       "</style>\n",
       "<table border=\"1\" class=\"dataframe\">\n",
       "  <thead>\n",
       "    <tr style=\"text-align: right;\">\n",
       "      <th></th>\n",
       "      <th>user_input</th>\n",
       "      <th>qa_context</th>\n",
       "      <th>reference</th>\n",
       "      <th>retrieved_contexts</th>\n",
       "      <th>response</th>\n",
       "    </tr>\n",
       "  </thead>\n",
       "  <tbody>\n",
       "    <tr>\n",
       "      <th>0</th>\n",
       "      <td>위·십이지장궤양에 어떤 약을 사용할 수 있나요?</td>\n",
       "      <td>[알바트정(알마게이트) (주)바이넥스 이 약은 위·십이지장궤양에 사용합니다.]</td>\n",
       "      <td>위·십이지장궤양에는 알바트정(알마게이트)을 사용할 수 있습니다.</td>\n",
       "      <td>[이든알마게이트정 (주)이든파마 이 약은 위·십이지장궤양, 위염, 위산과다, 속쓰림...</td>\n",
       "      <td>위·십이지장궤양에는 이든알마게이트정, 일양바이오알마게이트정, 이탄칼정과 같은 약을 ...</td>\n",
       "    </tr>\n",
       "    <tr>\n",
       "      <th>1</th>\n",
       "      <td>위염 증상을 완화하기 위해 추천되는 약은 무엇인가요?</td>\n",
       "      <td>[알바트정(알마게이트) (주)바이넥스 이 약은 위염 증상의 개선에 사용합니다.]</td>\n",
       "      <td>위염 증상을 완화하기 위해 알바트정(알마게이트)을 추천합니다.</td>\n",
       "      <td>[센티렉스어드밴스정 헤일리온코리아주식회사 이 약은 육체피로, 임신ㆍ수유기, 병중ㆍ병...</td>\n",
       "      <td>위염 증상을 완화하기 위해 추천되는 특정 약물에 대한 정보는 제공되지 않았습니다. ...</td>\n",
       "    </tr>\n",
       "    <tr>\n",
       "      <th>2</th>\n",
       "      <td>위산과다로 고생 중인데 어떤 약을 복용하면 좋을까요?</td>\n",
       "      <td>[알바트정(알마게이트) (주)바이넥스 이 약은 위산과다 증상의 개선에 사용합니다.]</td>\n",
       "      <td>위산과다에는 알바트정(알마게이트)을 복용하면 좋습니다.</td>\n",
       "      <td>[위스타산 (주)아이월드제약 이 약은 과음, 속쓰림, 위트림, 과식, 위통, 위부불...</td>\n",
       "      <td>위산과다로 고생 중이라면 위스타산이나 위푸린에스산을 고려해볼 수 있습니다. 두 약 ...</td>\n",
       "    </tr>\n",
       "  </tbody>\n",
       "</table>\n",
       "</div>"
      ],
      "text/plain": [
       "                      user_input  \\\n",
       "0     위·십이지장궤양에 어떤 약을 사용할 수 있나요?   \n",
       "1  위염 증상을 완화하기 위해 추천되는 약은 무엇인가요?   \n",
       "2  위산과다로 고생 중인데 어떤 약을 복용하면 좋을까요?   \n",
       "\n",
       "                                       qa_context  \\\n",
       "0     [알바트정(알마게이트) (주)바이넥스 이 약은 위·십이지장궤양에 사용합니다.]   \n",
       "1    [알바트정(알마게이트) (주)바이넥스 이 약은 위염 증상의 개선에 사용합니다.]   \n",
       "2  [알바트정(알마게이트) (주)바이넥스 이 약은 위산과다 증상의 개선에 사용합니다.]   \n",
       "\n",
       "                             reference  \\\n",
       "0  위·십이지장궤양에는 알바트정(알마게이트)을 사용할 수 있습니다.   \n",
       "1   위염 증상을 완화하기 위해 알바트정(알마게이트)을 추천합니다.   \n",
       "2       위산과다에는 알바트정(알마게이트)을 복용하면 좋습니다.   \n",
       "\n",
       "                                  retrieved_contexts  \\\n",
       "0  [이든알마게이트정 (주)이든파마 이 약은 위·십이지장궤양, 위염, 위산과다, 속쓰림...   \n",
       "1  [센티렉스어드밴스정 헤일리온코리아주식회사 이 약은 육체피로, 임신ㆍ수유기, 병중ㆍ병...   \n",
       "2  [위스타산 (주)아이월드제약 이 약은 과음, 속쓰림, 위트림, 과식, 위통, 위부불...   \n",
       "\n",
       "                                            response  \n",
       "0  위·십이지장궤양에는 이든알마게이트정, 일양바이오알마게이트정, 이탄칼정과 같은 약을 ...  \n",
       "1  위염 증상을 완화하기 위해 추천되는 특정 약물에 대한 정보는 제공되지 않았습니다. ...  \n",
       "2  위산과다로 고생 중이라면 위스타산이나 위푸린에스산을 고려해볼 수 있습니다. 두 약 ...  "
      ]
     },
     "execution_count": 18,
     "metadata": {},
     "output_type": "execute_result"
    }
   ],
   "source": [
    "eval_df.head(3)"
   ]
  },
  {
   "cell_type": "markdown",
   "metadata": {},
   "source": [
    "# 평가"
   ]
  },
  {
   "cell_type": "code",
   "execution_count": 19,
   "metadata": {},
   "outputs": [
    {
     "data": {
      "text/plain": [
       "EvaluationDataset(features=['user_input', 'retrieved_contexts', 'response', 'reference'], len=15)"
      ]
     },
     "execution_count": 19,
     "metadata": {},
     "output_type": "execute_result"
    }
   ],
   "source": [
    "# Dataframe으로 부터 EvalDataset 생성\n",
    "eval_dataset = EvaluationDataset.from_pandas(eval_df)\n",
    "eval_dataset"
   ]
  },
  {
   "cell_type": "code",
   "execution_count": 20,
   "metadata": {},
   "outputs": [
    {
     "data": {
      "text/plain": [
       "Dataset({\n",
       "    features: ['user_input', 'retrieved_contexts', 'response', 'reference'],\n",
       "    num_rows: 15\n",
       "})"
      ]
     },
     "execution_count": 20,
     "metadata": {},
     "output_type": "execute_result"
    }
   ],
   "source": [
    "# HuggingFace에 업로드 -> datasets.Dataset 으로 변환\n",
    "eval_dataset.to_hf_dataset()#.push_to_hub()"
   ]
  },
  {
   "cell_type": "code",
   "execution_count": 21,
   "metadata": {},
   "outputs": [
    {
     "data": {
      "application/vnd.jupyter.widget-view+json": {
       "model_id": "d0c62f3f667249f88095ea469e305b5d",
       "version_major": 2,
       "version_minor": 0
      },
      "text/plain": [
       "Evaluating:   0%|          | 0/60 [00:00<?, ?it/s]"
      ]
     },
     "metadata": {},
     "output_type": "display_data"
    }
   ],
   "source": [
    "# model_name = \"gpt-4o\"\n",
    "model_name = \"gpt-4o-mini\"\n",
    "model = ChatOpenAI(model=model_name)\n",
    "eval_llm = LangchainLLMWrapper(model)\n",
    "\n",
    "embedding_model = OpenAIEmbeddings(model=\"text-embedding-3-small\")\n",
    "eval_embedding = LangchainEmbeddingsWrapper(embedding_model)\n",
    "\n",
    "\n",
    "## GPT-4o-mini 모델을 사용하여 평가 \n",
    "metrics = [\n",
    "    LLMContextRecall(llm=eval_llm),\n",
    "    LLMContextPrecisionWithReference(llm=eval_llm),\n",
    "    Faithfulness(llm=eval_llm),\n",
    "    AnswerRelevancy(llm=eval_llm, embeddings=eval_embedding)\n",
    "]\n",
    "result = evaluate(dataset=eval_dataset, metrics=metrics)"
   ]
  },
  {
   "cell_type": "code",
   "execution_count": 22,
   "metadata": {},
   "outputs": [
    {
     "data": {
      "text/plain": [
       "{'context_recall': 0.3333, 'llm_context_precision_with_reference': 0.3611, 'faithfulness': 0.8471, 'answer_relevancy': 0.1401}"
      ]
     },
     "execution_count": 22,
     "metadata": {},
     "output_type": "execute_result"
    }
   ],
   "source": [
    "result"
   ]
  },
  {
   "cell_type": "code",
   "execution_count": null,
   "metadata": {},
   "outputs": [],
   "source": []
  },
  {
   "cell_type": "code",
   "execution_count": null,
   "metadata": {},
   "outputs": [],
   "source": []
  }
 ],
 "metadata": {
  "kernelspec": {
   "display_name": "langchain2",
   "language": "python",
   "name": "python3"
  },
  "language_info": {
   "codemirror_mode": {
    "name": "ipython",
    "version": 3
   },
   "file_extension": ".py",
   "mimetype": "text/x-python",
   "name": "python",
   "nbconvert_exporter": "python",
   "pygments_lexer": "ipython3",
   "version": "3.12.8"
  }
 },
 "nbformat": 4,
 "nbformat_minor": 2
}
