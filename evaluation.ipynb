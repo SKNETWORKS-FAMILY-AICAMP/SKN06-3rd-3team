{
 "cells": [
  {
   "cell_type": "code",
   "execution_count": 1,
   "metadata": {},
   "outputs": [],
   "source": [
    "from langchain_openai import ChatOpenAI, OpenAIEmbeddings\n",
    "from dotenv import load_dotenv\n",
    "\n",
    "load_dotenv()\n",
    "\n",
    "model = ChatOpenAI(model=\"gpt-4o-mini\") #평가시 사용할 llm 모델은 성능 좋은 것을 써야 좀 더 정확한 평가가 가능.\n",
    "embedding_model = OpenAIEmbeddings(\n",
    "    model=\"text-embedding-3-small\"\n",
    ")\n"
   ]
  },
  {
   "cell_type": "code",
   "execution_count": 2,
   "metadata": {},
   "outputs": [],
   "source": [
    "from langchain_community.document_loaders import TextLoader\n",
    "from langchain_text_splitters import RecursiveCharacterTextSplitter\n",
    "from langchain_chroma import Chroma\n",
    "\n",
    "COLLECTION_NAME = \"medicine_docs\"\n",
    "PERSIST_DIRECTORY = \"vector_store/chroma/medicine_db2\"\n",
    "\n",
    "path = r'data/medicine.txt'\n",
    "loader = TextLoader(path, encoding='utf-8')\n",
    "\n",
    "splitter = RecursiveCharacterTextSplitter.from_tiktoken_encoder(\n",
    "    model_name=\"gpt-4o-mini\",\n",
    "    chunk_size=500,\n",
    "    chunk_overlap=100\n",
    ")\n",
    "docs = loader.load_and_split(splitter)\n",
    "\n",
    "vector_store = Chroma.from_documents(\n",
    "    documents=docs,\n",
    "    embedding=embedding_model,\n",
    "    collection_name=COLLECTION_NAME,\n",
    "    persist_directory=PERSIST_DIRECTORY\n",
    ")"
   ]
  },
  {
   "cell_type": "code",
   "execution_count": 3,
   "metadata": {},
   "outputs": [],
   "source": [
    "# from langchain_chroma import Chroma\n",
    "\n",
    "# COLLECTION_NAME = \"medicine_docs\"\n",
    "# PERSIST_DIRECTORY = \"vector_store/chroma/medicine_db2\"\n",
    "# EMBEDDING_MODEL_NAME = 'text-embedding-3-small'\n",
    "\n",
    "# vector_store = Chroma(\n",
    "#     embedding_function=EMBEDDING_MODEL_NAME,\n",
    "#     collection_name=COLLECTION_NAME,\n",
    "#     persist_directory=PERSIST_DIRECTORY\n",
    "# )"
   ]
  },
  {
   "cell_type": "code",
   "execution_count": 4,
   "metadata": {},
   "outputs": [
    {
     "data": {
      "text/plain": [
       "21336"
      ]
     },
     "execution_count": 4,
     "metadata": {},
     "output_type": "execute_result"
    }
   ],
   "source": [
    "vector_store._collection.count()"
   ]
  },
  {
   "cell_type": "code",
   "execution_count": 5,
   "metadata": {},
   "outputs": [],
   "source": [
    "# RAG 체인 구성\n",
    "# query -> pt -> llm -> 응답 (query에 같이 입력된 context, 답변 => 2가지를 출력)\n",
    "from langchain import hub\n",
    "from langchain_core.runnables import RunnablePassthrough, RunnableLambda\n",
    "from langchain_core.output_parsers import StrOutputParser\n",
    "from langchain_core.documents import Document\n",
    "from operator import itemgetter\n",
    "\n",
    "# prompt template. langchain hub에 등록된 것을 가져와서 사용.\n",
    "prompt_template = hub.pull(\"rlm/rag-prompt\")\n",
    "# prompt_template\n",
    "\n",
    "# Retriever 생성\n",
    "retriever = vector_store.as_retriever()\n",
    "\n",
    "\n",
    "def format_docs(src_docs:dict[str, list[Document]]) -> str:\n",
    "    \"\"\"list[Document]: Vector Store에서 검색한 context들에서 \n",
    "    page_content만 추출해서 하나의 문자열로 합쳐서 반환\"\"\"\n",
    "    docs = src_docs['context']\n",
    "    return \"\\n\\n\".join([doc.page_content for doc in docs])\n",
    "\n",
    "def str_from_documents(docs: list[Document]) -> list[str]:\n",
    "    \"\"\"list[Document]에서 page_content 값들만 추출한 list를 반환.\"\"\"\n",
    "    return [doc.page_content for doc in docs]\n",
    "\n",
    "rag_chain = (\n",
    "    RunnablePassthrough() # rag chain을 RunnableSequence로 만들기 위해 Runnable인 것으로 시작.\n",
    "    | {\n",
    "        \"context\": retriever, \"question\":RunnablePassthrough()\n",
    "    } # retriver -> {\"context\":list[Document], \"question\":\"user input\"}\n",
    "    | {\n",
    "        # 앞에서 넘어온 dictionary에서 context(List[Document])를 추출 -> page_content값들을 list로 반환. list[str]\n",
    "        \"source_context\" : itemgetter(\"context\") | RunnableLambda(str_from_documents), \n",
    "        \"llm_answer\": {\n",
    "            # {\"context\":list[Document]} -> str(page_content들만 모은 string)\n",
    "            \"context\": RunnableLambda(format_docs), \"question\":itemgetter(\"question\")\n",
    "        } | prompt_template | model | StrOutputParser()  # LLM 응답 처리 chain. \n",
    "    }\n",
    ")"
   ]
  },
  {
   "cell_type": "code",
   "execution_count": 6,
   "metadata": {},
   "outputs": [
    {
     "data": {
      "text/plain": [
       "VectorStoreRetriever(tags=['Chroma', 'OpenAIEmbeddings'], vectorstore=<langchain_chroma.vectorstores.Chroma object at 0x0000026770848050>, search_kwargs={})"
      ]
     },
     "execution_count": 6,
     "metadata": {},
     "output_type": "execute_result"
    }
   ],
   "source": [
    "retriever"
   ]
  },
  {
   "cell_type": "code",
   "execution_count": 7,
   "metadata": {},
   "outputs": [],
   "source": [
    "user_input = \"이명에 관한 약 추천해줘줘.\"\n",
    "response = rag_chain.invoke(user_input)\n",
    "# response: dictionary - {source_context:VectorStore에 조회한 context들, llm_answer:LLM 답변변}"
   ]
  },
  {
   "cell_type": "code",
   "execution_count": 8,
   "metadata": {},
   "outputs": [
    {
     "name": "stdout",
     "output_type": "stream",
     "text": [
      "<class 'dict'>\n",
      "dict_keys(['source_context', 'llm_answer'])\n",
      "답변: 이명에 대한 특정 약물 정보는 제공되지 않았습니다. 비아핀에멀젼(트롤아민)은 화상 및 비감염성 피부상처에 사용되는 약물입니다. 이명에 대한 치료는 의사와 상담하여 적절한 약물을 처방받는 것이 좋습니다.\n"
     ]
    },
    {
     "data": {
      "text/plain": [
       "['비아핀에멀젼(트롤아민)\\n고려제약(주)\\n이 약은 1도, 2도 화상 및 기타 비감염성 피부상처, 방사선 치료에 의한 2차적 홍반(붉은 반점)에 사용합니다.\\n1도 화상인 경우 1일 2~4회 약물이 더 이상 흡수되지 않을 때까지 두껍게 바른 후 부드럽게 마사지합니다.2도 화상 및 기타 비감염성 피부상처인 경우 상처부위와 그 주위에 약물을 두껍게 바르고 항상 상처부위에 약물이 과량 존재하도록 반복해서 바르며 드레싱이 필요한 경우에는 이 약을 두껍게 바른 후(약 0.5 cm 두께로) 축축한 무균패드로 덮고 드레싱 합니다.방사선 치료에 의한 2차적 홍반(붉은 반점)인 경우 일정한 간격을 두고 1일 2~3회 방사선을 조사할 부위와 주위에 약물을 두껍게 바르고 부드럽게 마사지합니다.\\n이 약에 과민증 환자 또는 경험자,\\xa0약물이나 음식 알레르기에 의한 피부염,\\xa0출혈성 및 감염성 피부상처 부위, 감염 부위, 이식을 행하기 전의 피부이식 부위에는 이 약을 사용하지 마십시오.이 약을 사용하기 전에\\xa0프리필렌글리콜에 과민증 환자 또는 경험자는\\xa0의사 또는 약사와 상의하십시오.이 약은 살균제를 함유하지 않으므로 상처부위를 청결하게 유지하십시오.정해진 용법과 용량을 잘 지키십시오.안과용으로 사용하지 않고, 만일 눈에 들어간 경우 물로 씻어내십시오.이 약은 일광(햇볕)차단제를 함유하지 않으므로 일광(햇볕)화상 방지용으로 사용하지 마십시오.\\n실온에서 보관하십시오.',\n",
       " '비아핀에멀젼(트롤아민)\\n고려제약(주)\\n이 약은 1도, 2도 화상 및 기타 비감염성 피부상처, 방사선 치료에 의한 2차적 홍반(붉은 반점)에 사용합니다.\\n1도 화상인 경우 1일 2~4회 약물이 더 이상 흡수되지 않을 때까지 두껍게 바른 후 부드럽게 마사지합니다.2도 화상 및 기타 비감염성 피부상처인 경우 상처부위와 그 주위에 약물을 두껍게 바르고 항상 상처부위에 약물이 과량 존재하도록 반복해서 바르며 드레싱이 필요한 경우에는 이 약을 두껍게 바른 후(약 0.5 cm 두께로) 축축한 무균패드로 덮고 드레싱 합니다.방사선 치료에 의한 2차적 홍반(붉은 반점)인 경우 일정한 간격을 두고 1일 2~3회 방사선을 조사할 부위와 주위에 약물을 두껍게 바르고 부드럽게 마사지합니다.\\n이 약에 과민증 환자 또는 경험자,\\xa0약물이나 음식 알레르기에 의한 피부염,\\xa0출혈성 및 감염성 피부상처 부위, 감염 부위, 이식을 행하기 전의 피부이식 부위에는 이 약을 사용하지 마십시오.이 약을 사용하기 전에\\xa0프리필렌글리콜에 과민증 환자 또는 경험자는\\xa0의사 또는 약사와 상의하십시오.이 약은 살균제를 함유하지 않으므로 상처부위를 청결하게 유지하십시오.정해진 용법과 용량을 잘 지키십시오.안과용으로 사용하지 않고, 만일 눈에 들어간 경우 물로 씻어내십시오.이 약은 일광(햇볕)차단제를 함유하지 않으므로 일광(햇볕)화상 방지용으로 사용하지 마십시오.\\n실온에서 보관하십시오.',\n",
       " '비아핀에멀젼(트롤아민)\\n고려제약(주)\\n이 약은 1도, 2도 화상 및 기타 비감염성 피부상처, 방사선 치료에 의한 2차적 홍반(붉은 반점)에 사용합니다.\\n1도 화상인 경우 1일 2~4회 약물이 더 이상 흡수되지 않을 때까지 두껍게 바른 후 부드럽게 마사지합니다.2도 화상 및 기타 비감염성 피부상처인 경우 상처부위와 그 주위에 약물을 두껍게 바르고 항상 상처부위에 약물이 과량 존재하도록 반복해서 바르며 드레싱이 필요한 경우에는 이 약을 두껍게 바른 후(약 0.5 cm 두께로) 축축한 무균패드로 덮고 드레싱 합니다.방사선 치료에 의한 2차적 홍반(붉은 반점)인 경우 일정한 간격을 두고 1일 2~3회 방사선을 조사할 부위와 주위에 약물을 두껍게 바르고 부드럽게 마사지합니다.\\n이 약에 과민증 환자 또는 경험자,\\xa0약물이나 음식 알레르기에 의한 피부염,\\xa0출혈성 및 감염성 피부상처 부위, 감염 부위, 이식을 행하기 전의 피부이식 부위에는 이 약을 사용하지 마십시오.이 약을 사용하기 전에\\xa0프리필렌글리콜에 과민증 환자 또는 경험자는\\xa0의사 또는 약사와 상의하십시오.이 약은 살균제를 함유하지 않으므로 상처부위를 청결하게 유지하십시오.정해진 용법과 용량을 잘 지키십시오.안과용으로 사용하지 않고, 만일 눈에 들어간 경우 물로 씻어내십시오.이 약은 일광(햇볕)차단제를 함유하지 않으므로 일광(햇볕)화상 방지용으로 사용하지 마십시오.\\n실온에서 보관하십시오.',\n",
       " '비아핀에멀젼(트롤아민)\\n고려제약(주)\\n이 약은 1도, 2도 화상 및 기타 비감염성 피부상처, 방사선 치료에 의한 2차적 홍반(붉은 반점)에 사용합니다.\\n1도 화상인 경우 1일 2~4회 약물이 더 이상 흡수되지 않을 때까지 두껍게 바른 후 부드럽게 마사지합니다.2도 화상 및 기타 비감염성 피부상처인 경우 상처부위와 그 주위에 약물을 두껍게 바르고 항상 상처부위에 약물이 과량 존재하도록 반복해서 바르며 드레싱이 필요한 경우에는 이 약을 두껍게 바른 후(약 0.5 cm 두께로) 축축한 무균패드로 덮고 드레싱 합니다.방사선 치료에 의한 2차적 홍반(붉은 반점)인 경우 일정한 간격을 두고 1일 2~3회 방사선을 조사할 부위와 주위에 약물을 두껍게 바르고 부드럽게 마사지합니다.\\n이 약에 과민증 환자 또는 경험자,\\xa0약물이나 음식 알레르기에 의한 피부염,\\xa0출혈성 및 감염성 피부상처 부위, 감염 부위, 이식을 행하기 전의 피부이식 부위에는 이 약을 사용하지 마십시오.이 약을 사용하기 전에\\xa0프리필렌글리콜에 과민증 환자 또는 경험자는\\xa0의사 또는 약사와 상의하십시오.이 약은 살균제를 함유하지 않으므로 상처부위를 청결하게 유지하십시오.정해진 용법과 용량을 잘 지키십시오.안과용으로 사용하지 않고, 만일 눈에 들어간 경우 물로 씻어내십시오.이 약은 일광(햇볕)차단제를 함유하지 않으므로 일광(햇볕)화상 방지용으로 사용하지 마십시오.\\n실온에서 보관하십시오.']"
      ]
     },
     "execution_count": 8,
     "metadata": {},
     "output_type": "execute_result"
    }
   ],
   "source": [
    "print(type(response))\n",
    "print(response.keys())\n",
    "print(\"답변:\", response['llm_answer'])\n",
    "response['source_context']"
   ]
  },
  {
   "cell_type": "code",
   "execution_count": 9,
   "metadata": {},
   "outputs": [
    {
     "name": "stdout",
     "output_type": "stream",
     "text": [
      "이명에 관한 약 추천해줘.\n",
      "이명에 대한 특정 약물 정보는 제공되지 않았습니다. 비아핀에멀젼(트롤아민)은 화상 및 비감염성 피부상처에 사용되는 약물입니다. 이명에 대한 치료는 의사와 상담하여 적절한 약물을 처방받는 것이 좋습니다.\n",
      "['비아핀에멀젼(트롤아민)\\n고려제약(주)\\n이 약은 1도, 2도 화상 및 기타 비감염성 피부상처, 방사선 치료에 의한 2차적 홍반(붉은 반점)에 사용합니다.\\n1도 화상인 경우 1일 2~4회 약물이 더 이상 흡수되지 않을 때까지 두껍게 바른 후 부드럽게 마사지합니다.2도 화상 및 기타 비감염성 피부상처인 경우 상처부위와 그 주위에 약물을 두껍게 바르고 항상 상처부위에 약물이 과량 존재하도록 반복해서 바르며 드레싱이 필요한 경우에는 이 약을 두껍게 바른 후(약 0.5 cm 두께로) 축축한 무균패드로 덮고 드레싱 합니다.방사선 치료에 의한 2차적 홍반(붉은 반점)인 경우 일정한 간격을 두고 1일 2~3회 방사선을 조사할 부위와 주위에 약물을 두껍게 바르고 부드럽게 마사지합니다.\\n이 약에 과민증 환자 또는 경험자,\\xa0약물이나 음식 알레르기에 의한 피부염,\\xa0출혈성 및 감염성 피부상처 부위, 감염 부위, 이식을 행하기 전의 피부이식 부위에는 이 약을 사용하지 마십시오.이 약을 사용하기 전에\\xa0프리필렌글리콜에 과민증 환자 또는 경험자는\\xa0의사 또는 약사와 상의하십시오.이 약은 살균제를 함유하지 않으므로 상처부위를 청결하게 유지하십시오.정해진 용법과 용량을 잘 지키십시오.안과용으로 사용하지 않고, 만일 눈에 들어간 경우 물로 씻어내십시오.이 약은 일광(햇볕)차단제를 함유하지 않으므로 일광(햇볕)화상 방지용으로 사용하지 마십시오.\\n실온에서 보관하십시오.', '비아핀에멀젼(트롤아민)\\n고려제약(주)\\n이 약은 1도, 2도 화상 및 기타 비감염성 피부상처, 방사선 치료에 의한 2차적 홍반(붉은 반점)에 사용합니다.\\n1도 화상인 경우 1일 2~4회 약물이 더 이상 흡수되지 않을 때까지 두껍게 바른 후 부드럽게 마사지합니다.2도 화상 및 기타 비감염성 피부상처인 경우 상처부위와 그 주위에 약물을 두껍게 바르고 항상 상처부위에 약물이 과량 존재하도록 반복해서 바르며 드레싱이 필요한 경우에는 이 약을 두껍게 바른 후(약 0.5 cm 두께로) 축축한 무균패드로 덮고 드레싱 합니다.방사선 치료에 의한 2차적 홍반(붉은 반점)인 경우 일정한 간격을 두고 1일 2~3회 방사선을 조사할 부위와 주위에 약물을 두껍게 바르고 부드럽게 마사지합니다.\\n이 약에 과민증 환자 또는 경험자,\\xa0약물이나 음식 알레르기에 의한 피부염,\\xa0출혈성 및 감염성 피부상처 부위, 감염 부위, 이식을 행하기 전의 피부이식 부위에는 이 약을 사용하지 마십시오.이 약을 사용하기 전에\\xa0프리필렌글리콜에 과민증 환자 또는 경험자는\\xa0의사 또는 약사와 상의하십시오.이 약은 살균제를 함유하지 않으므로 상처부위를 청결하게 유지하십시오.정해진 용법과 용량을 잘 지키십시오.안과용으로 사용하지 않고, 만일 눈에 들어간 경우 물로 씻어내십시오.이 약은 일광(햇볕)차단제를 함유하지 않으므로 일광(햇볕)화상 방지용으로 사용하지 마십시오.\\n실온에서 보관하십시오.', '비아핀에멀젼(트롤아민)\\n고려제약(주)\\n이 약은 1도, 2도 화상 및 기타 비감염성 피부상처, 방사선 치료에 의한 2차적 홍반(붉은 반점)에 사용합니다.\\n1도 화상인 경우 1일 2~4회 약물이 더 이상 흡수되지 않을 때까지 두껍게 바른 후 부드럽게 마사지합니다.2도 화상 및 기타 비감염성 피부상처인 경우 상처부위와 그 주위에 약물을 두껍게 바르고 항상 상처부위에 약물이 과량 존재하도록 반복해서 바르며 드레싱이 필요한 경우에는 이 약을 두껍게 바른 후(약 0.5 cm 두께로) 축축한 무균패드로 덮고 드레싱 합니다.방사선 치료에 의한 2차적 홍반(붉은 반점)인 경우 일정한 간격을 두고 1일 2~3회 방사선을 조사할 부위와 주위에 약물을 두껍게 바르고 부드럽게 마사지합니다.\\n이 약에 과민증 환자 또는 경험자,\\xa0약물이나 음식 알레르기에 의한 피부염,\\xa0출혈성 및 감염성 피부상처 부위, 감염 부위, 이식을 행하기 전의 피부이식 부위에는 이 약을 사용하지 마십시오.이 약을 사용하기 전에\\xa0프리필렌글리콜에 과민증 환자 또는 경험자는\\xa0의사 또는 약사와 상의하십시오.이 약은 살균제를 함유하지 않으므로 상처부위를 청결하게 유지하십시오.정해진 용법과 용량을 잘 지키십시오.안과용으로 사용하지 않고, 만일 눈에 들어간 경우 물로 씻어내십시오.이 약은 일광(햇볕)차단제를 함유하지 않으므로 일광(햇볕)화상 방지용으로 사용하지 마십시오.\\n실온에서 보관하십시오.', '비아핀에멀젼(트롤아민)\\n고려제약(주)\\n이 약은 1도, 2도 화상 및 기타 비감염성 피부상처, 방사선 치료에 의한 2차적 홍반(붉은 반점)에 사용합니다.\\n1도 화상인 경우 1일 2~4회 약물이 더 이상 흡수되지 않을 때까지 두껍게 바른 후 부드럽게 마사지합니다.2도 화상 및 기타 비감염성 피부상처인 경우 상처부위와 그 주위에 약물을 두껍게 바르고 항상 상처부위에 약물이 과량 존재하도록 반복해서 바르며 드레싱이 필요한 경우에는 이 약을 두껍게 바른 후(약 0.5 cm 두께로) 축축한 무균패드로 덮고 드레싱 합니다.방사선 치료에 의한 2차적 홍반(붉은 반점)인 경우 일정한 간격을 두고 1일 2~3회 방사선을 조사할 부위와 주위에 약물을 두껍게 바르고 부드럽게 마사지합니다.\\n이 약에 과민증 환자 또는 경험자,\\xa0약물이나 음식 알레르기에 의한 피부염,\\xa0출혈성 및 감염성 피부상처 부위, 감염 부위, 이식을 행하기 전의 피부이식 부위에는 이 약을 사용하지 마십시오.이 약을 사용하기 전에\\xa0프리필렌글리콜에 과민증 환자 또는 경험자는\\xa0의사 또는 약사와 상의하십시오.이 약은 살균제를 함유하지 않으므로 상처부위를 청결하게 유지하십시오.정해진 용법과 용량을 잘 지키십시오.안과용으로 사용하지 않고, 만일 눈에 들어간 경우 물로 씻어내십시오.이 약은 일광(햇볕)차단제를 함유하지 않으므로 일광(햇볕)화상 방지용으로 사용하지 마십시오.\\n실온에서 보관하십시오.']\n",
      "이명에 관한 약은 이티민정40밀리그램, 써큐프리정, 징코브이연질캡슐 등이 있습니다.\n"
     ]
    }
   ],
   "source": [
    "user_input = \"이명에 관한 약 추천해줘.\"\n",
    "answer = response['llm_answer']\n",
    "context_list = response['source_context']\n",
    "ground_truth = \"이명에 관한 약은 이티민정40밀리그램, 써큐프리정, 징코브이연질캡슐 등이 있습니다.\"\n",
    "print(user_input) # 질문\n",
    "print(answer)     # llm 모델 답변\n",
    "print(context_list) # vector store에서 조회한 context들.\n",
    "print(ground_truth) # 정답"
   ]
  },
  {
   "cell_type": "code",
   "execution_count": 10,
   "metadata": {},
   "outputs": [
    {
     "name": "stdout",
     "output_type": "stream",
     "text": [
      "<class 'ragas.dataset_schema.EvaluationDataset'>\n"
     ]
    },
    {
     "data": {
      "text/plain": [
       "EvaluationDataset(features=['user_input', 'retrieved_contexts', 'response', 'reference'], len=1)"
      ]
     },
     "execution_count": 10,
     "metadata": {},
     "output_type": "execute_result"
    }
   ],
   "source": [
    "from ragas import SingleTurnSample, EvaluationDataset\n",
    "# 평가 데이터셋을 구성.\n",
    "\n",
    "## 개별 평가 데이터\n",
    "sample = SingleTurnSample(\n",
    "    user_input=user_input,           # 사용자 입력-질문\n",
    "    retrieved_contexts=context_list, # 질문에 대해서 Vector Store에서 조회한 context들.\n",
    "    response=answer,                 # LLM 답변 (정답 추정값)\n",
    "    reference=ground_truth           # 정답 답변변\n",
    ")\n",
    "\n",
    "# 평가 데이터셋을 구성\n",
    "eval_dataset = EvaluationDataset(samples=[sample])\n",
    "print(type(eval_dataset))\n",
    "eval_dataset"
   ]
  },
  {
   "cell_type": "code",
   "execution_count": 11,
   "metadata": {},
   "outputs": [
    {
     "data": {
      "text/plain": [
       "SingleTurnSample(user_input='이명에 관한 약 추천해줘.', retrieved_contexts=['비아핀에멀젼(트롤아민)\\n고려제약(주)\\n이 약은 1도, 2도 화상 및 기타 비감염성 피부상처, 방사선 치료에 의한 2차적 홍반(붉은 반점)에 사용합니다.\\n1도 화상인 경우 1일 2~4회 약물이 더 이상 흡수되지 않을 때까지 두껍게 바른 후 부드럽게 마사지합니다.2도 화상 및 기타 비감염성 피부상처인 경우 상처부위와 그 주위에 약물을 두껍게 바르고 항상 상처부위에 약물이 과량 존재하도록 반복해서 바르며 드레싱이 필요한 경우에는 이 약을 두껍게 바른 후(약 0.5 cm 두께로) 축축한 무균패드로 덮고 드레싱 합니다.방사선 치료에 의한 2차적 홍반(붉은 반점)인 경우 일정한 간격을 두고 1일 2~3회 방사선을 조사할 부위와 주위에 약물을 두껍게 바르고 부드럽게 마사지합니다.\\n이 약에 과민증 환자 또는 경험자,\\xa0약물이나 음식 알레르기에 의한 피부염,\\xa0출혈성 및 감염성 피부상처 부위, 감염 부위, 이식을 행하기 전의 피부이식 부위에는 이 약을 사용하지 마십시오.이 약을 사용하기 전에\\xa0프리필렌글리콜에 과민증 환자 또는 경험자는\\xa0의사 또는 약사와 상의하십시오.이 약은 살균제를 함유하지 않으므로 상처부위를 청결하게 유지하십시오.정해진 용법과 용량을 잘 지키십시오.안과용으로 사용하지 않고, 만일 눈에 들어간 경우 물로 씻어내십시오.이 약은 일광(햇볕)차단제를 함유하지 않으므로 일광(햇볕)화상 방지용으로 사용하지 마십시오.\\n실온에서 보관하십시오.', '비아핀에멀젼(트롤아민)\\n고려제약(주)\\n이 약은 1도, 2도 화상 및 기타 비감염성 피부상처, 방사선 치료에 의한 2차적 홍반(붉은 반점)에 사용합니다.\\n1도 화상인 경우 1일 2~4회 약물이 더 이상 흡수되지 않을 때까지 두껍게 바른 후 부드럽게 마사지합니다.2도 화상 및 기타 비감염성 피부상처인 경우 상처부위와 그 주위에 약물을 두껍게 바르고 항상 상처부위에 약물이 과량 존재하도록 반복해서 바르며 드레싱이 필요한 경우에는 이 약을 두껍게 바른 후(약 0.5 cm 두께로) 축축한 무균패드로 덮고 드레싱 합니다.방사선 치료에 의한 2차적 홍반(붉은 반점)인 경우 일정한 간격을 두고 1일 2~3회 방사선을 조사할 부위와 주위에 약물을 두껍게 바르고 부드럽게 마사지합니다.\\n이 약에 과민증 환자 또는 경험자,\\xa0약물이나 음식 알레르기에 의한 피부염,\\xa0출혈성 및 감염성 피부상처 부위, 감염 부위, 이식을 행하기 전의 피부이식 부위에는 이 약을 사용하지 마십시오.이 약을 사용하기 전에\\xa0프리필렌글리콜에 과민증 환자 또는 경험자는\\xa0의사 또는 약사와 상의하십시오.이 약은 살균제를 함유하지 않으므로 상처부위를 청결하게 유지하십시오.정해진 용법과 용량을 잘 지키십시오.안과용으로 사용하지 않고, 만일 눈에 들어간 경우 물로 씻어내십시오.이 약은 일광(햇볕)차단제를 함유하지 않으므로 일광(햇볕)화상 방지용으로 사용하지 마십시오.\\n실온에서 보관하십시오.', '비아핀에멀젼(트롤아민)\\n고려제약(주)\\n이 약은 1도, 2도 화상 및 기타 비감염성 피부상처, 방사선 치료에 의한 2차적 홍반(붉은 반점)에 사용합니다.\\n1도 화상인 경우 1일 2~4회 약물이 더 이상 흡수되지 않을 때까지 두껍게 바른 후 부드럽게 마사지합니다.2도 화상 및 기타 비감염성 피부상처인 경우 상처부위와 그 주위에 약물을 두껍게 바르고 항상 상처부위에 약물이 과량 존재하도록 반복해서 바르며 드레싱이 필요한 경우에는 이 약을 두껍게 바른 후(약 0.5 cm 두께로) 축축한 무균패드로 덮고 드레싱 합니다.방사선 치료에 의한 2차적 홍반(붉은 반점)인 경우 일정한 간격을 두고 1일 2~3회 방사선을 조사할 부위와 주위에 약물을 두껍게 바르고 부드럽게 마사지합니다.\\n이 약에 과민증 환자 또는 경험자,\\xa0약물이나 음식 알레르기에 의한 피부염,\\xa0출혈성 및 감염성 피부상처 부위, 감염 부위, 이식을 행하기 전의 피부이식 부위에는 이 약을 사용하지 마십시오.이 약을 사용하기 전에\\xa0프리필렌글리콜에 과민증 환자 또는 경험자는\\xa0의사 또는 약사와 상의하십시오.이 약은 살균제를 함유하지 않으므로 상처부위를 청결하게 유지하십시오.정해진 용법과 용량을 잘 지키십시오.안과용으로 사용하지 않고, 만일 눈에 들어간 경우 물로 씻어내십시오.이 약은 일광(햇볕)차단제를 함유하지 않으므로 일광(햇볕)화상 방지용으로 사용하지 마십시오.\\n실온에서 보관하십시오.', '비아핀에멀젼(트롤아민)\\n고려제약(주)\\n이 약은 1도, 2도 화상 및 기타 비감염성 피부상처, 방사선 치료에 의한 2차적 홍반(붉은 반점)에 사용합니다.\\n1도 화상인 경우 1일 2~4회 약물이 더 이상 흡수되지 않을 때까지 두껍게 바른 후 부드럽게 마사지합니다.2도 화상 및 기타 비감염성 피부상처인 경우 상처부위와 그 주위에 약물을 두껍게 바르고 항상 상처부위에 약물이 과량 존재하도록 반복해서 바르며 드레싱이 필요한 경우에는 이 약을 두껍게 바른 후(약 0.5 cm 두께로) 축축한 무균패드로 덮고 드레싱 합니다.방사선 치료에 의한 2차적 홍반(붉은 반점)인 경우 일정한 간격을 두고 1일 2~3회 방사선을 조사할 부위와 주위에 약물을 두껍게 바르고 부드럽게 마사지합니다.\\n이 약에 과민증 환자 또는 경험자,\\xa0약물이나 음식 알레르기에 의한 피부염,\\xa0출혈성 및 감염성 피부상처 부위, 감염 부위, 이식을 행하기 전의 피부이식 부위에는 이 약을 사용하지 마십시오.이 약을 사용하기 전에\\xa0프리필렌글리콜에 과민증 환자 또는 경험자는\\xa0의사 또는 약사와 상의하십시오.이 약은 살균제를 함유하지 않으므로 상처부위를 청결하게 유지하십시오.정해진 용법과 용량을 잘 지키십시오.안과용으로 사용하지 않고, 만일 눈에 들어간 경우 물로 씻어내십시오.이 약은 일광(햇볕)차단제를 함유하지 않으므로 일광(햇볕)화상 방지용으로 사용하지 마십시오.\\n실온에서 보관하십시오.'], reference_contexts=None, response='이명에 대한 특정 약물 정보는 제공되지 않았습니다. 비아핀에멀젼(트롤아민)은 화상 및 비감염성 피부상처에 사용되는 약물입니다. 이명에 대한 치료는 의사와 상담하여 적절한 약물을 처방받는 것이 좋습니다.', multi_responses=None, reference='이명에 관한 약은 이티민정40밀리그램, 써큐프리정, 징코브이연질캡슐 등이 있습니다.', rubrics=None)"
      ]
     },
     "execution_count": 11,
     "metadata": {},
     "output_type": "execute_result"
    }
   ],
   "source": [
    "eval_dataset[0]"
   ]
  },
  {
   "cell_type": "code",
   "execution_count": 12,
   "metadata": {},
   "outputs": [
    {
     "data": {
      "text/html": [
       "<div>\n",
       "<style scoped>\n",
       "    .dataframe tbody tr th:only-of-type {\n",
       "        vertical-align: middle;\n",
       "    }\n",
       "\n",
       "    .dataframe tbody tr th {\n",
       "        vertical-align: top;\n",
       "    }\n",
       "\n",
       "    .dataframe thead th {\n",
       "        text-align: right;\n",
       "    }\n",
       "</style>\n",
       "<table border=\"1\" class=\"dataframe\">\n",
       "  <thead>\n",
       "    <tr style=\"text-align: right;\">\n",
       "      <th></th>\n",
       "      <th>user_input</th>\n",
       "      <th>retrieved_contexts</th>\n",
       "      <th>response</th>\n",
       "      <th>reference</th>\n",
       "    </tr>\n",
       "  </thead>\n",
       "  <tbody>\n",
       "    <tr>\n",
       "      <th>0</th>\n",
       "      <td>이명에 관한 약 추천해줘.</td>\n",
       "      <td>[비아핀에멀젼(트롤아민)\\n고려제약(주)\\n이 약은 1도, 2도 화상 및 기타 비감...</td>\n",
       "      <td>이명에 대한 특정 약물 정보는 제공되지 않았습니다. 비아핀에멀젼(트롤아민)은 화상 ...</td>\n",
       "      <td>이명에 관한 약은 이티민정40밀리그램, 써큐프리정, 징코브이연질캡슐 등이 있습니다.</td>\n",
       "    </tr>\n",
       "  </tbody>\n",
       "</table>\n",
       "</div>"
      ],
      "text/plain": [
       "       user_input                                 retrieved_contexts  \\\n",
       "0  이명에 관한 약 추천해줘.  [비아핀에멀젼(트롤아민)\\n고려제약(주)\\n이 약은 1도, 2도 화상 및 기타 비감...   \n",
       "\n",
       "                                            response  \\\n",
       "0  이명에 대한 특정 약물 정보는 제공되지 않았습니다. 비아핀에멀젼(트롤아민)은 화상 ...   \n",
       "\n",
       "                                        reference  \n",
       "0  이명에 관한 약은 이티민정40밀리그램, 써큐프리정, 징코브이연질캡슐 등이 있습니다.  "
      ]
     },
     "execution_count": 12,
     "metadata": {},
     "output_type": "execute_result"
    }
   ],
   "source": [
    "# Dataset을 Pandas DataFrame으로 변환\n",
    "eval_df = eval_dataset.to_pandas()\n",
    "eval_df"
   ]
  },
  {
   "cell_type": "code",
   "execution_count": 13,
   "metadata": {},
   "outputs": [],
   "source": [
    "# 평가\n",
    "\n",
    "from ragas.metrics import (\n",
    "    LLMContextRecall, Faithfulness, LLMContextPrecisionWithReference, AnswerRelevancy\n",
    ")\n",
    "from ragas.llms import LangchainLLMWrapper\n",
    "from ragas.embeddings import LangchainEmbeddingsWrapper\n",
    "from ragas import evaluate\n",
    "\n",
    "from langchain_openai import ChatOpenAI, OpenAIEmbeddings\n",
    "from dotenv import load_dotenv\n",
    "\n",
    "load_dotenv()\n",
    "\n",
    "model = ChatOpenAI(model=\"gpt-4o\") # 평가시 사용할 llm 모델.\n",
    "eval_llm = LangchainLLMWrapper(model) # Langchain 모델을 ragas에서 사용할 수있도록 변환.\n",
    "\n",
    "embedding_model = OpenAIEmbeddings(model=\"text-embedding-3-small\")\n",
    "eval_embedding = LangchainEmbeddingsWrapper(embedding_model)"
   ]
  },
  {
   "cell_type": "code",
   "execution_count": 14,
   "metadata": {},
   "outputs": [
    {
     "data": {
      "application/vnd.jupyter.widget-view+json": {
       "model_id": "2d2e73a2b9954bc99c73d8b342096527",
       "version_major": 2,
       "version_minor": 0
      },
      "text/plain": [
       "Evaluating:   0%|          | 0/4 [00:00<?, ?it/s]"
      ]
     },
     "metadata": {},
     "output_type": "display_data"
    }
   ],
   "source": [
    "#평가 지표들을 List로 묶는다.\n",
    "metrics = [\n",
    "    LLMContextRecall(llm=eval_llm),\n",
    "    LLMContextPrecisionWithReference(llm=eval_llm),\n",
    "    Faithfulness(llm=eval_llm),\n",
    "    AnswerRelevancy(llm=eval_llm, embeddings=eval_embedding)\n",
    "]\n",
    "result = evaluate(dataset=eval_dataset, metrics=metrics)"
   ]
  },
  {
   "cell_type": "code",
   "execution_count": 15,
   "metadata": {},
   "outputs": [
    {
     "data": {
      "text/plain": [
       "{'context_recall': 0.0000, 'llm_context_precision_with_reference': 0.0000, 'faithfulness': 0.6000, 'answer_relevancy': 0.0000}"
      ]
     },
     "execution_count": 15,
     "metadata": {},
     "output_type": "execute_result"
    }
   ],
   "source": [
    "type(result)\n",
    "result"
   ]
  },
  {
   "cell_type": "code",
   "execution_count": 16,
   "metadata": {},
   "outputs": [
    {
     "data": {
      "text/html": [
       "<div>\n",
       "<style scoped>\n",
       "    .dataframe tbody tr th:only-of-type {\n",
       "        vertical-align: middle;\n",
       "    }\n",
       "\n",
       "    .dataframe tbody tr th {\n",
       "        vertical-align: top;\n",
       "    }\n",
       "\n",
       "    .dataframe thead th {\n",
       "        text-align: right;\n",
       "    }\n",
       "</style>\n",
       "<table border=\"1\" class=\"dataframe\">\n",
       "  <thead>\n",
       "    <tr style=\"text-align: right;\">\n",
       "      <th></th>\n",
       "      <th>user_input</th>\n",
       "      <th>retrieved_contexts</th>\n",
       "      <th>response</th>\n",
       "      <th>reference</th>\n",
       "      <th>context_recall</th>\n",
       "      <th>llm_context_precision_with_reference</th>\n",
       "      <th>faithfulness</th>\n",
       "      <th>answer_relevancy</th>\n",
       "    </tr>\n",
       "  </thead>\n",
       "  <tbody>\n",
       "    <tr>\n",
       "      <th>0</th>\n",
       "      <td>이명에 관한 약 추천해줘.</td>\n",
       "      <td>[비아핀에멀젼(트롤아민)\\n고려제약(주)\\n이 약은 1도, 2도 화상 및 기타 비감...</td>\n",
       "      <td>이명에 대한 특정 약물 정보는 제공되지 않았습니다. 비아핀에멀젼(트롤아민)은 화상 ...</td>\n",
       "      <td>이명에 관한 약은 이티민정40밀리그램, 써큐프리정, 징코브이연질캡슐 등이 있습니다.</td>\n",
       "      <td>0.0</td>\n",
       "      <td>0.0</td>\n",
       "      <td>0.6</td>\n",
       "      <td>0.0</td>\n",
       "    </tr>\n",
       "  </tbody>\n",
       "</table>\n",
       "</div>"
      ],
      "text/plain": [
       "       user_input                                 retrieved_contexts  \\\n",
       "0  이명에 관한 약 추천해줘.  [비아핀에멀젼(트롤아민)\\n고려제약(주)\\n이 약은 1도, 2도 화상 및 기타 비감...   \n",
       "\n",
       "                                            response  \\\n",
       "0  이명에 대한 특정 약물 정보는 제공되지 않았습니다. 비아핀에멀젼(트롤아민)은 화상 ...   \n",
       "\n",
       "                                        reference  context_recall  \\\n",
       "0  이명에 관한 약은 이티민정40밀리그램, 써큐프리정, 징코브이연질캡슐 등이 있습니다.             0.0   \n",
       "\n",
       "   llm_context_precision_with_reference  faithfulness  answer_relevancy  \n",
       "0                                   0.0           0.6               0.0  "
      ]
     },
     "execution_count": 16,
     "metadata": {},
     "output_type": "execute_result"
    }
   ],
   "source": [
    "result.to_pandas()"
   ]
  },
  {
   "cell_type": "code",
   "execution_count": 17,
   "metadata": {},
   "outputs": [
    {
     "name": "stdout",
     "output_type": "stream",
     "text": [
      "6501\n"
     ]
    }
   ],
   "source": [
    "from langchain_community.document_loaders import TextLoader\n",
    "from langchain_text_splitters import RecursiveCharacterTextSplitter\n",
    "\n",
    "loader = TextLoader(path, encoding='utf-8')\n",
    "splitter = RecursiveCharacterTextSplitter.from_tiktoken_encoder(\n",
    "    model_name=\"gpt-4o-mini\",\n",
    "    chunk_size=500,\n",
    "    chunk_overlap=100\n",
    ")\n",
    "docs = loader.load_and_split(splitter)\n",
    "print(len(docs))"
   ]
  },
  {
   "cell_type": "code",
   "execution_count": 18,
   "metadata": {},
   "outputs": [],
   "source": [
    "# 평가 데이터로 사용할 context k개를 랜덤하게 추출\n",
    "import random\n",
    "total_samples = 5 # 추출할 샘플 개수\n",
    "eval_context_list = [] # Sample들을 담을 리스트\n",
    "while len(eval_context_list) < 5:\n",
    "    _context = docs[random.randint(0, len(docs)-1)].page_content\n",
    "    if len(_context) < 100: # 글자수 너무 적으면 질문을 생성 못하기 때문에 글자수 체크.\n",
    "        continue\n",
    "    eval_context_list.append(_context)"
   ]
  },
  {
   "cell_type": "code",
   "execution_count": 19,
   "metadata": {},
   "outputs": [],
   "source": [
    "# Chain을 이용해서 LLM에게 질문-답 생성을 요청.\n",
    "from langchain.prompts import PromptTemplate\n",
    "from langchain_core.output_parsers import JsonOutputParser\n",
    "from pydantic import BaseModel, Field\n",
    "from textwrap import dedent\n",
    "\n",
    "# JSONOutputParser에서 사용할 스키마 생성.\n",
    "class EvalDatasetSchema(BaseModel):\n",
    "    user_input:str = Field(..., description=\"질문(Question)\")\n",
    "    retrieved_contexts:list[str] = Field(..., description=\"LLM이 답변할 때 참조할 context\")\n",
    "    reference: str = Field(..., description=\"정답(ground truth)\")\n",
    "\n",
    "parser = JsonOutputParser(pydantic_object=EvalDatasetSchema)\n",
    "# print(parser.get_format_instructions())\n",
    "\n",
    "prompt_template = PromptTemplate.from_template(\n",
    "    template=dedent(\"\"\"\n",
    "        당신은 RAG 평가를 위해 질문과 정답 쌍을 생성하는 인공지능 비서입니다.\n",
    "        다음 [Context] 에 문서가 주어지면 해당 문서를 기반으로 {num_questions}개의 질문을 생성하세요. \n",
    "\n",
    "        질문과 정답을 생성한 후 아래의 출력 형식 GUIDE 에 맞게 생성합니다.\n",
    "        질문은 반드시 [context] 문서에 있는 정보를 바탕으로 생성해야 합니다. [context]에 없는 내용을 가지고 질문-답변을 절대 만들면 안됩니다.\n",
    "        질문은 간결하게 작성합니다.\n",
    "        하나의 질문에는 한 가지씩만 내용만 작성합니다. \n",
    "        질문을 만들 때 \"제공된 문맥에서\", \"문서에 설명된 대로\", \"주어진 문서에 따라\" 또는 이와 유사한 말을 하지 마세요.\n",
    "        질문을 만들 때, 구체적인 증상에 따른 약을 추천받는 질문만 하세요.\n",
    "        구체적인 증상에 따른 약 추천받는 질문만 하세요. 제발. 다른 질문은 하지 마세요.\n",
    "        질문을 할 때는 구체적인 약 이름을 기반으로 질문하세요. \"이 약\" 또는 이와 유사한 말을 사용하지 마세요.\n",
    "        \n",
    "        정답은 반드시 [context]에 있는 정보를 바탕으로 작성합니다. 없는 내용을 추가하지 않습니다.\n",
    "        정답은 반드시 [context]에 있는 구체적인 약 이름을 명시해서 답변하세요. \n",
    "        정답에는 구체적인 약 이름으로 추천해서 답변하세요.\n",
    "        정답에 \"이 약\"이라는 말을 쓰지 마세요. \"이 약\"이라는 말을 쓰지 마. 제발. 쓰지 말라면 좀 쓰지마.\n",
    "                    \n",
    "        질문과 답변을 만들고 그 내용이 [context] 에 있는 항목인지 다시 한번 확인합니다.\n",
    "        생성된 질문-답변 쌍은 반드시 dictionary 형태로 정의하고 list로 묶어서 반환해야 합니다.\n",
    "        질문-답변 쌍은 반드시 {num_questions}개를 만들어 주십시오.\n",
    "                    \n",
    "        출력 형식: {format_instructions}\n",
    "\n",
    "        [Context]\n",
    "        {context}\n",
    "        \"\"\"\n",
    "    ),\n",
    "    partial_variables={\"format_instructions\":parser.get_format_instructions()}\n",
    ")\n",
    "\n",
    "model = ChatOpenAI(model=\"gpt-4o\")\n",
    "dataset_generator_chain = prompt_template | model | parser"
   ]
  },
  {
   "cell_type": "code",
   "execution_count": 20,
   "metadata": {},
   "outputs": [],
   "source": [
    "c = eval_context_list[0]\n",
    "\n",
    "qa = dataset_generator_chain.invoke({\"context\":c, \"num_questions\":5})"
   ]
  },
  {
   "cell_type": "code",
   "execution_count": 21,
   "metadata": {},
   "outputs": [
    {
     "data": {
      "text/plain": [
       "[{'user_input': '만성 간질환에 어떤 약을 추천하나요?',\n",
       "  'retrieved_contexts': ['리버텍트골드연질캡슐\\n한국코러스(주)\\n이 약은 만성 간질환, 간경변, 독성 간질환의 보조치료에 사용합니다.\\n성인은 1회 1캡슐 1일 3회 복용합니다.\\n이 약에 과민증 환자, 대두유 또는 콩, 땅콩에 과민증 환자, 심한 담도폐쇄 환자, 12세 이하 소아는\\xa0이 약을 복용하지 마십시오.이 약을 복용하기 전에 고지단백혈증, 당뇨병성 고지질혈증 및 췌장염 등 지방대사이상, 지방과부하로 특별한 위험이 예상되는 환자, 임부 또는 임신하고 있을 가능성이 있는 여성, 수유부는 의사 또는 약사와 상의하십시오.정해진 용법과 용량을 잘 지키십시오.\\n습기와 빛을 피해 실온에서 보관하십시오.어린이의 손이 닿지 않는 곳에 보관하십시오.'],\n",
       "  'reference': '만성 간질환에는 리버텍트골드연질캡슐을 추천합니다.'},\n",
       " {'user_input': '간경변 치료에 도움이 되는 약은 무엇인가요?',\n",
       "  'retrieved_contexts': ['리버텍트골드연질캡슐\\n한국코러스(주)\\n이 약은 만성 간질환, 간경변, 독성 간질환의 보조치료에 사용합니다.\\n성인은 1회 1캡슐 1일 3회 복용합니다.\\n이 약에 과민증 환자, 대두유 또는 콩, 땅콩에 과민증 환자, 심한 담도폐쇄 환자, 12세 이하 소아는\\xa0이 약을 복용하지 마십시오.이 약을 복용하기 전에 고지단백혈증, 당뇨병성 고지질혈증 및 췌장염 등 지방대사이상, 지방과부하로 특별한 위험이 예상되는 환자, 임부 또는 임신하고 있을 가능성이 있는 여성, 수유부는 의사 또는 약사와 상의하십시오.정해진 용법과 용량을 잘 지키십시오.\\n습기와 빛을 피해 실온에서 보관하십시오.어린이의 손이 닿지 않는 곳에 보관하십시오.'],\n",
       "  'reference': '간경변 치료에는 리버텍트골드연질캡슐을 사용할 수 있습니다.'},\n",
       " {'user_input': '독성 간질환에 적합한 약이 있나요?',\n",
       "  'retrieved_contexts': ['리버텍트골드연질캡슐\\n한국코러스(주)\\n이 약은 만성 간질환, 간경변, 독성 간질환의 보조치료에 사용합니다.\\n성인은 1회 1캡슐 1일 3회 복용합니다.\\n이 약에 과민증 환자, 대두유 또는 콩, 땅콩에 과민증 환자, 심한 담도폐쇄 환자, 12세 이하 소아는\\xa0이 약을 복용하지 마십시오.이 약을 복용하기 전에 고지단백혈증, 당뇨병성 고지질혈증 및 췌장염 등 지방대사이상, 지방과부하로 특별한 위험이 예상되는 환자, 임부 또는 임신하고 있을 가능성이 있는 여성, 수유부는 의사 또는 약사와 상의하십시오.정해진 용법과 용량을 잘 지키십시오.\\n습기와 빛을 피해 실온에서 보관하십시오.어린이의 손이 닿지 않는 곳에 보관하십시오.'],\n",
       "  'reference': '독성 간질환에는 리버텍트골드연질캡슐이 적합합니다.'},\n",
       " {'user_input': '12세 이하 소아가 복용하면 안 되는 약은 무엇인가요?',\n",
       "  'retrieved_contexts': ['리버텍트골드연질캡슐\\n한국코러스(주)\\n이 약은 만성 간질환, 간경변, 독성 간질환의 보조치료에 사용합니다.\\n성인은 1회 1캡슐 1일 3회 복용합니다.\\n이 약에 과민증 환자, 대두유 또는 콩, 땅콩에 과민증 환자, 심한 담도폐쇄 환자, 12세 이하 소아는\\xa0이 약을 복용하지 마십시오.이 약을 복용하기 전에 고지단백혈증, 당뇨병성 고지질혈증 및 췌장염 등 지방대사이상, 지방과부하로 특별한 위험이 예상되는 환자, 임부 또는 임신하고 있을 가능성이 있는 여성, 수유부는 의사 또는 약사와 상의하십시오.정해진 용법과 용량을 잘 지키십시오.\\n습기와 빛을 피해 실온에서 보관하십시오.어린이의 손이 닿지 않는 곳에 보관하십시오.'],\n",
       "  'reference': '리버텍트골드연질캡슐은 12세 이하 소아가 복용하면 안 됩니다.'},\n",
       " {'user_input': '대두유에 과민증이 있는 사람이 피해야 할 약은?',\n",
       "  'retrieved_contexts': ['리버텍트골드연질캡슐\\n한국코러스(주)\\n이 약은 만성 간질환, 간경변, 독성 간질환의 보조치료에 사용합니다.\\n성인은 1회 1캡슐 1일 3회 복용합니다.\\n이 약에 과민증 환자, 대두유 또는 콩, 땅콩에 과민증 환자, 심한 담도폐쇄 환자, 12세 이하 소아는\\xa0이 약을 복용하지 마십시오.이 약을 복용하기 전에 고지단백혈증, 당뇨병성 고지질혈증 및 췌장염 등 지방대사이상, 지방과부하로 특별한 위험이 예상되는 환자, 임부 또는 임신하고 있을 가능성이 있는 여성, 수유부는 의사 또는 약사와 상의하십시오.정해진 용법과 용량을 잘 지키십시오.\\n습기와 빛을 피해 실온에서 보관하십시오.어린이의 손이 닿지 않는 곳에 보관하십시오.'],\n",
       "  'reference': '대두유에 과민증이 있는 사람은 리버텍트골드연질캡슐을 피해야 합니다.'}]"
      ]
     },
     "execution_count": 21,
     "metadata": {},
     "output_type": "execute_result"
    }
   ],
   "source": [
    "# 확인 후 retrieved_contexts을 context로 변경.\n",
    "for d in qa:\n",
    "    d['retrieved_contexts'] = [c]\n",
    "qa"
   ]
  },
  {
   "cell_type": "code",
   "execution_count": 22,
   "metadata": {},
   "outputs": [
    {
     "data": {
      "text/html": [
       "<div>\n",
       "<style scoped>\n",
       "    .dataframe tbody tr th:only-of-type {\n",
       "        vertical-align: middle;\n",
       "    }\n",
       "\n",
       "    .dataframe tbody tr th {\n",
       "        vertical-align: top;\n",
       "    }\n",
       "\n",
       "    .dataframe thead th {\n",
       "        text-align: right;\n",
       "    }\n",
       "</style>\n",
       "<table border=\"1\" class=\"dataframe\">\n",
       "  <thead>\n",
       "    <tr style=\"text-align: right;\">\n",
       "      <th></th>\n",
       "      <th>user_input</th>\n",
       "      <th>retrieved_contexts</th>\n",
       "      <th>reference</th>\n",
       "    </tr>\n",
       "  </thead>\n",
       "  <tbody>\n",
       "    <tr>\n",
       "      <th>0</th>\n",
       "      <td>만성 간질환에 어떤 약을 추천하나요?</td>\n",
       "      <td>[리버텍트골드연질캡슐\\n한국코러스(주)\\n이 약은 만성 간질환, 간경변, 독성 간질...</td>\n",
       "      <td>만성 간질환에는 리버텍트골드연질캡슐을 추천합니다.</td>\n",
       "    </tr>\n",
       "    <tr>\n",
       "      <th>1</th>\n",
       "      <td>간경변 치료에 도움이 되는 약은 무엇인가요?</td>\n",
       "      <td>[리버텍트골드연질캡슐\\n한국코러스(주)\\n이 약은 만성 간질환, 간경변, 독성 간질...</td>\n",
       "      <td>간경변 치료에는 리버텍트골드연질캡슐을 사용할 수 있습니다.</td>\n",
       "    </tr>\n",
       "    <tr>\n",
       "      <th>2</th>\n",
       "      <td>독성 간질환에 적합한 약이 있나요?</td>\n",
       "      <td>[리버텍트골드연질캡슐\\n한국코러스(주)\\n이 약은 만성 간질환, 간경변, 독성 간질...</td>\n",
       "      <td>독성 간질환에는 리버텍트골드연질캡슐이 적합합니다.</td>\n",
       "    </tr>\n",
       "    <tr>\n",
       "      <th>3</th>\n",
       "      <td>12세 이하 소아가 복용하면 안 되는 약은 무엇인가요?</td>\n",
       "      <td>[리버텍트골드연질캡슐\\n한국코러스(주)\\n이 약은 만성 간질환, 간경변, 독성 간질...</td>\n",
       "      <td>리버텍트골드연질캡슐은 12세 이하 소아가 복용하면 안 됩니다.</td>\n",
       "    </tr>\n",
       "    <tr>\n",
       "      <th>4</th>\n",
       "      <td>대두유에 과민증이 있는 사람이 피해야 할 약은?</td>\n",
       "      <td>[리버텍트골드연질캡슐\\n한국코러스(주)\\n이 약은 만성 간질환, 간경변, 독성 간질...</td>\n",
       "      <td>대두유에 과민증이 있는 사람은 리버텍트골드연질캡슐을 피해야 합니다.</td>\n",
       "    </tr>\n",
       "  </tbody>\n",
       "</table>\n",
       "</div>"
      ],
      "text/plain": [
       "                       user_input  \\\n",
       "0            만성 간질환에 어떤 약을 추천하나요?   \n",
       "1        간경변 치료에 도움이 되는 약은 무엇인가요?   \n",
       "2             독성 간질환에 적합한 약이 있나요?   \n",
       "3  12세 이하 소아가 복용하면 안 되는 약은 무엇인가요?   \n",
       "4      대두유에 과민증이 있는 사람이 피해야 할 약은?   \n",
       "\n",
       "                                  retrieved_contexts  \\\n",
       "0  [리버텍트골드연질캡슐\\n한국코러스(주)\\n이 약은 만성 간질환, 간경변, 독성 간질...   \n",
       "1  [리버텍트골드연질캡슐\\n한국코러스(주)\\n이 약은 만성 간질환, 간경변, 독성 간질...   \n",
       "2  [리버텍트골드연질캡슐\\n한국코러스(주)\\n이 약은 만성 간질환, 간경변, 독성 간질...   \n",
       "3  [리버텍트골드연질캡슐\\n한국코러스(주)\\n이 약은 만성 간질환, 간경변, 독성 간질...   \n",
       "4  [리버텍트골드연질캡슐\\n한국코러스(주)\\n이 약은 만성 간질환, 간경변, 독성 간질...   \n",
       "\n",
       "                               reference  \n",
       "0            만성 간질환에는 리버텍트골드연질캡슐을 추천합니다.  \n",
       "1       간경변 치료에는 리버텍트골드연질캡슐을 사용할 수 있습니다.  \n",
       "2            독성 간질환에는 리버텍트골드연질캡슐이 적합합니다.  \n",
       "3     리버텍트골드연질캡슐은 12세 이하 소아가 복용하면 안 됩니다.  \n",
       "4  대두유에 과민증이 있는 사람은 리버텍트골드연질캡슐을 피해야 합니다.  "
      ]
     },
     "execution_count": 22,
     "metadata": {},
     "output_type": "execute_result"
    }
   ],
   "source": [
    "import pandas as pd\n",
    "pd.DataFrame(qa)"
   ]
  },
  {
   "cell_type": "code",
   "execution_count": null,
   "metadata": {},
   "outputs": [],
   "source": []
  }
 ],
 "metadata": {
  "kernelspec": {
   "display_name": "langchain",
   "language": "python",
   "name": "python3"
  },
  "language_info": {
   "codemirror_mode": {
    "name": "ipython",
    "version": 3
   },
   "file_extension": ".py",
   "mimetype": "text/x-python",
   "name": "python",
   "nbconvert_exporter": "python",
   "pygments_lexer": "ipython3",
   "version": "3.12.7"
  }
 },
 "nbformat": 4,
 "nbformat_minor": 2
}
