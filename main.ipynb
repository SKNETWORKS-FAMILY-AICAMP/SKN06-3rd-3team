{
 "cells": [
  {
   "cell_type": "markdown",
   "metadata": {},
   "source": [
    "### file 읽어오기"
   ]
  },
  {
   "cell_type": "code",
   "execution_count": 7,
   "metadata": {},
   "outputs": [
    {
     "data": {
      "text/plain": [
       "True"
      ]
     },
     "execution_count": 7,
     "metadata": {},
     "output_type": "execute_result"
    }
   ],
   "source": [
    "from dotenv import load_dotenv\n",
    "load_dotenv()"
   ]
  },
  {
   "cell_type": "code",
   "execution_count": 8,
   "metadata": {},
   "outputs": [],
   "source": [
    "from langchain_community.document_loaders import TextLoader\n",
    "path = r'data/medicine.txt'\n",
    "\n",
    "# 1. loader 객체 생성\n",
    "loader = TextLoader(path, encoding='utf-8')\n",
    "# 2. loader를 이용해서 파일 읽어옴\n",
    "docs = loader.load()"
   ]
  },
  {
   "cell_type": "code",
   "execution_count": 20,
   "metadata": {},
   "outputs": [],
   "source": [
    "from langchain_community.document_loaders import TextLoader\n",
    "from langchain_chroma import Chroma\n",
    "from langchain_openai import OpenAIEmbeddings, ChatOpenAI\n",
    "from langchain_text_splitters import RecursiveCharacterTextSplitter\n",
    "from langchain.prompts import ChatPromptTemplate\n",
    "from langchain_core.runnables import RunnablePassthrough\n",
    "from langchain.globals import set_llm_cache\n",
    "from langchain.cache import InMemoryCache, SQLiteCache\n",
    "\n",
    "# set_llm_cache(SQLiteCache(\".cache_prompt.sqlite\"))\n",
    "\n",
    "COLLECTION_NAME = \"medicine_docs\"\n",
    "PERSIST_DIRECTORY = \"vector_store/chroma/medicine_db2\"\n",
    "EMBEDDING_MODEL_NAME = 'text-embedding-3-small'\n",
    "\n",
    "# Text Loading\n",
    "loader = TextLoader(path, encoding='utf-8')\n",
    "\n",
    "# 문서 load and split\n",
    "splitter = RecursiveCharacterTextSplitter(\n",
    "    chunk_size=1000,\n",
    "    chunk_overlap=100\n",
    ")\n",
    "\n",
    "docs = loader.load_and_split(splitter)\n",
    "\n",
    "# Vector Store 생성\n",
    "\n",
    "embedding_model = OpenAIEmbeddings(model=EMBEDDING_MODEL_NAME)\n",
    "\n",
    "vector_store = Chroma.from_documents(\n",
    "    documents=docs,\n",
    "    embedding=embedding_model,\n",
    "    collection_name=COLLECTION_NAME,\n",
    "    persist_directory=PERSIST_DIRECTORY\n",
    ")\n",
    "\n",
    "# Retriever 생성 - \"mmr\" 방식\n",
    "# MMR 방식 조회\n",
    "retriever = vector_store.as_retriever(\n",
    "    search_type='mmr',\n",
    "    search_kwargs = {\n",
    "        'k':5,\n",
    "        'fetch_k':10\n",
    "    }\n",
    ")\n",
    "\n"
   ]
  },
  {
   "cell_type": "code",
   "execution_count": 22,
   "metadata": {},
   "outputs": [
    {
     "data": {
      "text/plain": [
       "[Document(metadata={'source': 'data/medicine.txt'}, page_content='두두엔액\\n(주)퍼슨\\n이 약은 습진, 피부염, 땀띠, 가려움, 벌레물린데, 두드러기에 사용합니다.\\n1일 수회(여러 차례) 환부(질환 부위)에 적당량을 바릅니다.\\n이 약에 과민증 환자, 30개월 이하의 유아, 피부감염증(피부결핵, 매독, 칸디다증, 백선, 대상포진, 단순포진, 수두, 종두증, 옴, 사면발이),\\xa0막 천공이 있는 습진성 외이도염, 궤양(베체트병 제외), 제2도 심재성 이상의 화상 및 동상, 입주위피부염, 보통여드름, 주사 환자는 이 약을 사용하지 마십시오.피부 감염을 수반하는 습진,\\xa0상처부위, 민감한 피부에 사용하지 마십시오.이 약을 사용하기 전에\\xa0임부 또는 임신하고 있을 가능성이 있는 여성 및 수유부, 소아, 고령자, 알레르기 체질,\\xa0습윤(습기 참)이나 짓무름, 염증이 심한 환자는 의사 또는 약사와 상의하십시오.정해진 용법과 용량을 잘 지키십시오.어린이에게 투여할 경우 보호자의 지도 감독하에 투여하십시오.이 약은 외용으로만 사용하고 내복 또는 흡입하지 마십시오.눈 또는 눈 주위, 점막 등에는 사용하지 않아야 하며 이 약이 눈에 들어가지 않도록 주의하고, 만일 눈에 들어간 경우 즉시 물로 씻어내십시오.약액이 묻은 손이 눈 등 점막에 닿으면 자극이 있으므로 손에 묻은 약액은 잘 씻어내십시오.의사의 감독 없이 밀봉붕대법을 사용하지 마십시오.기저귀 등은 밀봉붕대법과 같은 작용을 나타낼 수 있으므로 주의하십시오.화장이나 면도 후 등 치료 이외의 목적으로 사용하지 마십시오.사용 전에 잘 흔들어 사용하십시오.염색한 머리에 사용하면 탈색될 수 있으므로 주의하십시오.\\n습기와 빛을 피해 실온에서 보관하십시오.어린이의 손이 닿지 않는 곳에 보관하십시오.화기 근처에 두지 마십시오.'),\n",
       " Document(metadata={'source': 'data/medicine.txt'}, page_content='복합판시놀액\\n동성제약(주)\\n이 약은 남성형 탈모증(안드로젠탈모증)의 치료에 사용합니다.\\n모발과 두피를 완전히 건조시킨 후, 이 약 0.5~1 mL를 1일 2회(아침, 저녁), 최소 4개월 동안, 환부에만 바르고, 하루 총 투여량이 2 mL를 초과하지 마십시오.\\n이 약에 과민증 환자, 18세 미만 환자, 심혈관계 질환(관상동맥 질환, 부정맥, 울혈심부전, 심장판막 질환, 치료받거나 혹은 치료받지 않은 고혈압, 저혈압), 유전적 요인이 없는 탈모, 갑작스런 부분적 탈모, 두피의 이상(홍반, 염증, 감염, 자극 또는 통증, 건선, 일광화상), 원인불명의 탈모, 두피를 면도한 환자, 심근경색 및 경험자는 이 약을 사용하지 마십시오.이 약을 사용하기 전에 고령자는 의사 또는 약사와 상의하십시오.이 약의 사용을 잊은 경우에도 용량을 보충하지 않고 그대로 다음 용량을 적용합니다.이 약은 외용으로만 사용하고 두피 이외의 부위에는 사용하지 마십시오.밀봉붕대법을 사용하지 마십시오.이 약 사용으로 눈의 화상 및 자극이 나타날 수 있으므로 눈에 들어가지 않도록 주의하고 눈, 벗겨진 피부 및 점막 등 민감한 부위에 이 약이 닿으면 즉시 깨끗한 물로 씻어내십시오.이 약을 사용한 후에는 손을 깨끗이 씻으십시오.헤어스타일링제는 이 약이 마른 후 사용하고, 저녁에 사용할 때는 이 약의 건조를 위해 취침 2∼4시간 전에 사용하십시오.두피에서 공기가 순환되면 이 약의 효과가 감소될 수 있으므로, 이 약의 건조를 촉진시키기 위해 헤어드라이어를 사용하지 마십시오.\\n습기와 빛을 피해 실온에서 보관하십시오.어린이의 손이 닿지 않는 곳에 보관하십시오.화기 근처에 두지 마십시오.'),\n",
       " Document(metadata={'source': 'data/medicine.txt'}, page_content='씨트리드정(수출명:잔트리드정)\\n대화제약(주)\\n이 약은 위통, 속쓰림, 체함, 구역에 사용합니다.\\n성인 (15세 이상~80세 미만)은 1회 2정씩 복용하되 복용 후 5시간 이상 지나도 증상이 완화되지 않으면 다시 2정을 복용합니다.단, 1일 2회(4정)을 넘지 않도록 하십시오.\\n혈액질환, 신장ㆍ간장질환, 위ㆍ십이지장질환, 천식ㆍ류마티스 등의 면역계질환,\\xa0스테로이드제,\\xa0항생물질,\\xa0항암제,\\xa0아졸계 항진균제를 투여 받고 있는 환자,\\xa0적혈구감소증, 혈소판감소증, 백혈구감소증 등의 혈액이상,\\xa0히스타민 H2-수용체 길항제에 과민증 환자,\\xa0소아(15세 미만),\\xa0고령자(80세 이상),\\xa0임부 또는 임신하고 있을 가능성이 있는 여성 및 수유부,\\xa0투석요법을 받고 있는 환자는 이 약을 복용하지 마십시오.이 약을 복용하기 전에 고령자(65세 이상), 인후통, 기침 및 고열,\\xa0원인불명의 체중감소,\\xa0복통이 지속되고 있는 환자, 황색4호에 과민증 환자 또는 경험자는 의사 또는 약사와 상의하십시오.\\n습기와 빛을 피해 실온에서 보관하십시오.어린이의 손이 닿지 않는 곳에 보관하십시오.'),\n",
       " Document(metadata={'source': 'data/medicine.txt'}, page_content='하이로손로션2.5%(히드로코르티손)\\n태극제약(주)\\n이 약은 습진ㆍ피부염군, 피부가려움, 벌레물린데에 사용합니다.\\n사용 전 잘 흔들어 섞은 후 1일 1~3회 적당량을 환부(질환 부위)에 바르고 증상에 따라 적절히 증감합니다.이 약의 치료기간은 7일 이내로 제한합니다.\\n이 약에 과민증 환자,\\xa0피부감염증(결핵, 매독, 칸디다증, 백선, 대상포진, 단순포진, 수두, 종두증, 옴, 사면발이),\\xa0고막 천공이 있는 습진성 외이도염,\\xa0궤양(베체트병 제외), 제2도 심재성 이상의 화상 및 동상, 입주위피부염, 보통여드름, 주사 환자, 비염증성 가려움 환자는 이 약을 사용하지 마십시오.이 약을 사용하기 전에\\xa0임부 또는 임신하고 있을 가능성이 있는 여성 및 수유부,\\xa0유ㆍ소아(특히 2세 미만), 고령자는\\xa0의사 또는 약사와 상의하십시오.안과용으로 사용하지 마십시오.화장이나 면도 후\\xa0치료 이외의 목적으로 사용하지 마십시오.의사의 지시가 없는 한 밀봉붕대법을 사용하지 마십시오.\\n실온에서 보관하십시오.어린이의 손이 닿지 않는 곳에 보관하십시오.\\n\\n진트로이정(트리메부틴말레산염)\\n(주)비보존제약\\n이 약은 식도역류 및 열공헤르니아, 위 십이지장염, 위 십이지장궤양에 있어서의 소화기능이상(복통, 소화불량, 구역, 구토), 과민성대장증후군 및 경련성 결장, 소아 질환(습관성 구토, 비감염성 장관통과장애(변비, 설사))에 사용합니다.\\n성인은 말레인산트리메부틴으로서 1회 100-200mg 1일 3회를 식전에 복용하십시오.연령과 증상에 따라 적절히 증감하십시오.\\n이 약을 복용하기 전에 임부와 수유부는 의사 또는 약사와 상의하십시오.\\n습기와 빛을 피해 보관하십시오.어린이의 손이 닿지 않는 곳에 보관하십시오.'),\n",
       " Document(metadata={'source': 'data/medicine.txt'}, page_content='모바린액3%(미녹시딜)\\n해태에이치티비(주)\\n이 약은 남성형 탈모증(안드로젠탈모증) 및 여성형 탈모증(안드로젠탈모증)의 치료에 사용합니다.\\n남성은 모발과 두피를 완전히 건조시킨 후, 이 약 0.5~1 mL를 1일 2회(아침, 저녁), 최소 4개월 동안, 환부에만 바르고, 하루 총 투여량이 2 mL를 초과하지 마십시오.여성은 모발과 두피를 완전히 건조시킨 후, 이 약 0.5 mL를 1일 2회(아침, 저녁), 최소 4개월 동안, 환부에만 바르고, 1일 총 투여량이 1.3 mL를 초과하지 마십시오.\\n이 약에 과민증 환자,\\xa018세 미만 환자,\\xa0임부 또는 임신하고 있을 가능성이 있는 여성 및 수유부, 심혈관계 질환(관상동맥 질환, 부정맥, 울혈심부전, 심장판막 질환, 치료받거나 혹은 치료받지 않은 고혈압, 저혈압),\\xa0유전적 요인이 없는 탈모,\\xa0갑작스런 부분적 탈모,\\xa0두피의 이상(홍반, 염증, 감염, 자극 또는 통증, 건선, 일광화상), 원인불명의 탈모,\\xa0두피를 면도한 환자, 출산과 관련된 탈모 환자는 이 약을 사용하지 마십시오.이 약을 사용하기 전에 고령자, 프로필렌글리콜에 과민증 환자 또는 경험자는\\xa0의사 또는 약사와 상의하십시오.이 약의 사용을 잊은 경우에도 용량을 보충하지 않고 그대로 다음 용량을 적용합니다.이 약은 외용으로만 사용하고 두피 이외의 부위에는 사용하지 마십시오.밀봉붕대법을 사용하지 마십시오.이 약 사용으로 눈의 화상 및 자극이 나타날 수 있으므로 눈에 들어가지 않도록 주의하고 눈, 벗겨진 피부 및 점막 등 민감한 부위에 이 약이 닿으면 즉시 깨끗한 물로 씻어내십시오.이 약을 사용한 후에는 손을 깨끗이 씻으십시오.헤어스타일링제는 이 약이 마른 후 사용하고, 저녁에 사용할 때는 이 약의 건조를 위해 취침 2∼4시간 전에 사용하십시오.두피에서 공기가 순환되면 이 약의 효과가 감소될 수 있으므로, 이 약의 건조를 촉진시키기 위해 헤어드라이어를 사용하지 마십시오.')]"
      ]
     },
     "execution_count": 22,
     "metadata": {},
     "output_type": "execute_result"
    }
   ],
   "source": [
    "query = '두통인데 약 추천해줘'\n",
    "retriever.invoke(query)  "
   ]
  },
  {
   "cell_type": "code",
   "execution_count": 25,
   "metadata": {},
   "outputs": [
    {
     "name": "stdout",
     "output_type": "stream",
     "text": [
      "두통에 대한 추천 약물은 다음과 같습니다:\n",
      "\n",
      "| 약물명           | 용도                          | 복용법                     | 주의사항 및 부작용                                                   |\n",
      "|------------------|-------------------------------|---------------------------|---------------------------------------------------------------------|\n",
      "| 씨트리드정      | 위통, 속쓰림, 체함, 구역에 사용 | 성인: 1회 2정, 1일 2회 (4정 초과 금지) | 고혈압, 신장/간 질환 환자, 15세 미만, 고령자, 임부는 의사 상담 필요. |\n",
      "| 진트로이정       | 소화기 기능 이상에 사용       | 성인: 1회 100-200mg, 1일 3회 식전 복용 | 임부 및 수유부는 의사 상담 필요.                                    |\n",
      "\n",
      "### 복용 전 알아야 할 사항:\n",
      "- 모든 약물은 의사 또는 약사와 상담 후 복용하는 것이 안전합니다.\n",
      "- 특히 고령자나 기존 질환이 있는 경우 추가적인 주의가 필요합니다.\n",
      "\n",
      "### 증상 악화 시 대처 방법:\n",
      "- 두통이 지속되거나 심해질 경우 즉시 의사와 상담해야 합니다.\n",
      "- 두통이 심할 경우 휴식과 수분 섭취도 중요합니다.\n",
      "\n",
      "### 주의사항 요약:\n",
      "- 약물 복용 시 권장 용량을 초과하지 않도록 주의하세요.\n",
      "- 부작용이 발생할 경우 즉시 사용을 중단하고 의사에게 상담하세요.\n",
      "\n",
      "두통이 계속되거나 증상이 심해지면 반드시 전문가와 상담하시기 바랍니다.\n"
     ]
    }
   ],
   "source": [
    "from langchain_core.output_parsers import StrOutputParser\n",
    "\n",
    "# Prompt Template 생성\n",
    "messages = [\n",
    "            (\"ai\", \"\"\"\n",
    "            너는 유능한 약사야. context 안에 있는 내용에 한 해서\n",
    "            사용자가 입력한 증상에 맞는 약을 2개만 선택해서 알려줘.\n",
    "            복용이 간단하고 부작용이 적은 약을 우선적으로 추천해서 알려줘.\n",
    "            약을 복용하기 전에 반드시 알아야 할 사항은 꼭 알려줘.\n",
    "            증상이 악화될 경우 대처방법에 대해서 알려줘.\n",
    "            약에 따른 복용법에 대해서도 간단히 언급해줘.\n",
    "            주의사항 요약해서 알려줘. \n",
    "            위의 내용을 표로 정리해서 알려줘.       \n",
    "            {context}\")\"\"\"),\n",
    "            (\"human\", \"{question}\")\n",
    "    ]\n",
    "\n",
    "prompt_template = ChatPromptTemplate(messages)\n",
    "\n",
    "# 모델\n",
    "model = ChatOpenAI(model='gpt-4o-mini')\n",
    "\n",
    "#output parser\n",
    "parser = StrOutputParser()\n",
    "\n",
    "# Chain 구성 retriever (관련문서 조회) -> prompt_template -> model -> outputparser\n",
    "chain = {'context':retriever, 'question':RunnablePassthrough()} | prompt_template | model | parser\n",
    "    # RunnablePassThrough -> 이전 question 부름\n",
    "\n",
    "data = chain.invoke('두통인데 약 추천해줘')\n",
    "\n",
    "print(data)"
   ]
  },
  {
   "cell_type": "code",
   "execution_count": null,
   "metadata": {},
   "outputs": [],
   "source": []
  }
 ],
 "metadata": {
  "kernelspec": {
   "display_name": "langchain",
   "language": "python",
   "name": "python3"
  },
  "language_info": {
   "codemirror_mode": {
    "name": "ipython",
    "version": 3
   },
   "file_extension": ".py",
   "mimetype": "text/x-python",
   "name": "python",
   "nbconvert_exporter": "python",
   "pygments_lexer": "ipython3",
   "version": "3.12.7"
  }
 },
 "nbformat": 4,
 "nbformat_minor": 2
}
