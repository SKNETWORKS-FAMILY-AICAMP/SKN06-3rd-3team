{
 "cells": [
  {
   "cell_type": "markdown",
   "metadata": {},
   "source": [
    "### file 읽어오기"
   ]
  },
  {
   "cell_type": "code",
   "execution_count": 1,
   "metadata": {},
   "outputs": [
    {
     "data": {
      "text/plain": [
       "True"
      ]
     },
     "execution_count": 1,
     "metadata": {},
     "output_type": "execute_result"
    }
   ],
   "source": [
    "from dotenv import load_dotenv\n",
    "load_dotenv()"
   ]
  },
  {
   "cell_type": "code",
   "execution_count": 2,
   "metadata": {},
   "outputs": [],
   "source": [
    "from langchain_community.document_loaders import TextLoader\n",
    "path = r'data/medicine.txt'\n",
    "\n",
    "# 1. loader 객체 생성\n",
    "loader = TextLoader(path, encoding='utf-8')\n",
    "# 2. loader를 이용해서 파일 읽어옴\n",
    "docs = loader.load()"
   ]
  },
  {
   "cell_type": "code",
   "execution_count": 30,
   "metadata": {},
   "outputs": [],
   "source": [
    "store = {}\n",
    "config = {\"configurable\": {\"session_id\":\"chat_message_1\"}}\n",
    "\n",
    "def get_session_history(session_id):\n",
    "    \n",
    "    if session_id not in store:\n",
    "        store[session_id] = InMemoryChatMessageHistory()\n",
    "        return store[session_id]\n",
    "    \n",
    "    memory = ConversationBufferWindowMemory(\n",
    "        chat_memory=store[session_id], # 메세지 저장소 추가.\n",
    "        k=2,\n",
    "        return_messages=True,\n",
    "        message_key=\"history\"\n",
    "    )\n",
    "    # 1. memory에서 저장된 message들을 조회\n",
    "    message_list = memory.load_memory_variables({})['history']# list[Message]\n",
    "    # 2. 조회한 message들을 InMemoryChatMessageHistory에 추가\n",
    "    store[session_id] = InMemoryChatMessageHistory(messages=message_list)\n",
    "    # 3. 2의 InMemoryChatMessageHistory를 반환.\n",
    "    return store[session_id]"
   ]
  },
  {
   "cell_type": "code",
   "execution_count": 31,
   "metadata": {},
   "outputs": [
    {
     "name": "stdout",
     "output_type": "stream",
     "text": [
      "두통에 효과적인 약물을 아래와 같이 추천합니다. \n",
      "\n",
      "| 약품명           | 효능                                                         | 복용법                                   | 주의사항 요약                                       |\n",
      "|------------------|------------------------------------------------------------|-----------------------------------------|-----------------------------------------------------|\n",
      "| 진통제 (예: 아세트아미노펜) | 두통 완화                                                   | 성인은 1회 500mg, 1일 3~4회 복용 가능 | 간 질환 환자는 사용 전 의사와 상담 필요            |\n",
      "| 이부프로펜       | 두통 및 염증 완화                                          | 성인은 1회 200mg, 필요 시 4~6시간 간격으로 복용 | 위장장애나 출혈 경향이 있는 환자는 주의 필요        |\n",
      "| 나프록센         | 두통과 염증에 효과적                                       | 성인은 1회 250mg, 필요 시 12시간 간격으로 복용 | 신장 질환 환자 및 위장 장애 환자는 주의 필요        |\n",
      "| 아스피린         | 두통 완화 및 혈액 순환 개선                                 | 성인은 1회 300~1000mg, 필요 시 4~6시간 간격으로 복용 | 출혈 경향이 있는 환자 및 위장 장애 환자는 주의 필요 |\n",
      "| 트리마졸람 (진정제) | 긴장성 두통 완화                                          | 사용 전 의사 상담 필요                 | 수면 유도 및 진정 효과가 있으므로 주의 필요         |\n",
      "\n",
      "### 복용 전 알아야 할 사항\n",
      "- 약물 복용 전에 반드시 약사 또는 의사와 상담하여 본인의 건강 상태에 맞는지 확인하세요.\n",
      "- 복용 후 1시간 이내에 증상이 개선되지 않거나 악화될 경우 의사와 상담하세요.\n",
      "\n",
      "### 증상 악화 시 대처 방법\n",
      "- 두통이 심해지거나 만성적으로 지속될 경우 즉시 의료 기관을 방문하여 진료를 받으세요.\n",
      "- 음료 충분히 섭취하고, 어두운 조명에서 휴식을 취하는 것이 도움이 될 수 있습니다.\n",
      "\n",
      "이 정보를 바탕으로 적절한 약을 선택하시기 바랍니다.\n"
     ]
    }
   ],
   "source": [
    "from langchain_core.output_parsers import StrOutputParser\n",
    "from langchain_core.chat_history import InMemoryChatMessageHistory\n",
    "from langchain.prompts import ChatPromptTemplate, MessagesPlaceholder\n",
    "from langchain_core.runnables.history import RunnableWithMessageHistory, RunnableLambda\n",
    "from langchain.memory import ConversationBufferWindowMemory\n",
    "from operator import itemgetter\n",
    "\n",
    "# Prompt Template 생성\n",
    "messages = [\n",
    "            (\"ai\", \"\"\"\n",
    "            너는 유능한 약사야. context 안에 있는 내용에 한 해서\n",
    "            어떤 효과가 있는지 알려주고 사용자가 입력한 증상에 맞는 약을 5개만 선택해서 알려줘.\n",
    "            복용이 간단하고 부작용이 적은 약을 우선적으로 추천해서 알려줘.\n",
    "            약을 복용하기 전에 반드시 알아야 할 사항은 꼭 알려줘.\n",
    "            증상이 악화될 경우 대처방법에 대해서 알려줘.\n",
    "            약에 따른 복용법에 대해서도 간단히 언급해줘.\n",
    "            주의사항 요약해서 알려줘. \n",
    "            위의 내용을 표로 정리해서 알려줘.\n",
    "            사용자가 말한 증상을 효능 부분에서 찾아서 그에 맞는 약을 알려줘.     \n",
    "            {context}\")\"\"\"),\n",
    "            MessagesPlaceholder(\"history\"), \n",
    "            (\"human\", \"{question}\")\n",
    "    ]\n",
    "\n",
    "prompt_template = ChatPromptTemplate(messages)\n",
    "\n",
    "# 모델\n",
    "model = ChatOpenAI(model='gpt-4o-mini')\n",
    "\n",
    "#output parser\n",
    "parser = StrOutputParser()\n",
    "\n",
    "def get_context(input_data:dict):\n",
    "    return retriever.invoke(input_data['question'])\n",
    "\n",
    "# Chain 구성 retriever (관련문서 조회) -> prompt_template -> model -> outputparser\n",
    "runnable = {'context':RunnableLambda(get_context), 'question':itemgetter(\"question\"), 'history':itemgetter('history')} | prompt_template | model | parser\n",
    "    # RunnablePassThrough -> 이전 question 부름\n",
    "\n",
    "\n",
    "chain = RunnableWithMessageHistory(\n",
    "    runnable=runnable, # chain 객체(RunnableSequence)\n",
    "    get_session_history=get_session_history, # session_id의 ChatMessageHistory객체를 반환하는 함수.\n",
    "    input_messages_key=\"question\", # prompt template에 입력 내용을 넣을 변수명.\n",
    "    history_messages_key=\"history\" # prompt template에 대화내역을 넣으줄 변수명\n",
    ")\n",
    "\n",
    "config = {\"configurable\": {\"session_id\":\"id-1\"}}\n",
    "data = chain.invoke({\"question\":\"두통인데 약 추천해줘\"}  # 질문\n",
    "                    , config\n",
    ")\n",
    "\n",
    "print(data)"
   ]
  },
  {
   "cell_type": "code",
   "execution_count": 32,
   "metadata": {},
   "outputs": [
    {
     "name": "stdout",
     "output_type": "stream",
     "text": [
      "두통과 소화불량에 효과적인 약을 아래와 같이 추천합니다. \n",
      "\n",
      "| 약품명               | 효능                                                     | 복용법                                         | 주의사항 요약                                       |\n",
      "|----------------------|--------------------------------------------------------|------------------------------------------------|-----------------------------------------------------|\n",
      "| **진통제 (예: 아세트아미노펜)** | 두통 완화                                             | 성인은 1회 500mg, 1일 3~4회 복용 가능       | 간 질환 환자는 사용 전 의사와 상담 필요            |\n",
      "| **이부프로펜**       | 두통 및 염증 완화                                      | 성인은 1회 200mg, 필요 시 4~6시간 간격으로 복용 | 위장장애나 출혈 경향이 있는 환자는 주의 필요        |\n",
      "| **나프록센**         | 두통과 염증에 효과적                                   | 성인은 1회 250mg, 필요 시 12시간 간격으로 복용 | 신장 질환 환자 및 위장 장애 환자는 주의 필요        |\n",
      "| **베스타제정**       | 소화불량, 식욕감퇴, 소화촉진에 사용                  | 성인은 1회 2정, 1일 3회 식후 복용           | 7세 미만 영유아, 갈락토오스 불내성 환자는 복용 금지  |\n",
      "| **베스타제당의정**   | 소화불량, 위부팽만감 완화에 사용                      | 성인은 1회 2정, 1일 3회 식후 복용           | 같은 주의사항 적용                                   |\n",
      "\n",
      "### 복용 전 알아야 할 사항\n",
      "- 약물 복용 전에 반드시 약사 또는 의사와 상담하여 본인의 건강 상태에 맞는지 확인하세요.\n",
      "- 두통과 소화불량 증상이 동시에 나타날 경우, 각각의 약을 적절히 복용하되 상호작용에 주의하세요.\n",
      "\n",
      "### 증상 악화 시 대처 방법\n",
      "- 두통이 심해지거나 소화불량 증상이 지속될 경우 즉시 의료 기관을 방문하여 진료를 받으세요.\n",
      "- 두통에는 조용한 환경에서 휴식을 취하고, 소화불량에는 물을 충분히 섭취하며 가벼운 식사를 시도하세요.\n",
      "\n",
      "이 정보를 바탕으로 적절한 약을 선택하시기 바랍니다.\n"
     ]
    }
   ],
   "source": [
    "config = {\"configurable\": {\"session_id\":\"id-1\"}}\n",
    "data = chain.invoke({\"question\":\"아까 추천한 약과 소화제도 추천해줘.\"}  # 질문\n",
    "                    , config\n",
    ")\n",
    "\n",
    "print(data)"
   ]
  }
 ],
 "metadata": {
  "kernelspec": {
   "display_name": "langchain",
   "language": "python",
   "name": "python3"
  },
  "language_info": {
   "codemirror_mode": {
    "name": "ipython",
    "version": 3
   },
   "file_extension": ".py",
   "mimetype": "text/x-python",
   "name": "python",
   "nbconvert_exporter": "python",
   "pygments_lexer": "ipython3",
   "version": "3.12.7"
  }
 },
 "nbformat": 4,
 "nbformat_minor": 2
}
