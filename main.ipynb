{
 "cells": [
  {
   "cell_type": "markdown",
   "metadata": {},
   "source": [
    "### file 읽어오기"
   ]
  },
  {
   "cell_type": "code",
   "execution_count": 1,
   "metadata": {},
   "outputs": [
    {
     "data": {
      "text/plain": [
       "True"
      ]
     },
     "execution_count": 1,
     "metadata": {},
     "output_type": "execute_result"
    }
   ],
   "source": [
    "from dotenv import load_dotenv\n",
    "load_dotenv()"
   ]
  },
  {
   "cell_type": "code",
   "execution_count": 2,
   "metadata": {},
   "outputs": [],
   "source": [
    "from langchain_community.document_loaders import TextLoader\n",
    "path = r'data/medicine.txt'\n",
    "\n",
    "# 1. loader 객체 생성\n",
    "loader = TextLoader(path, encoding='utf-8')\n",
    "# 2. loader를 이용해서 파일 읽어옴\n",
    "docs = loader.load()"
   ]
  },
  {
   "cell_type": "code",
   "execution_count": 3,
   "metadata": {},
   "outputs": [],
   "source": [
    "from langchain.cache import InMemoryCache, SQLiteCache\n",
    "from langchain.globals import set_llm_cache\n",
    "from langchain.text_splitter import RecursiveCharacterTextSplitter\n",
    "from langchain_chroma import Chroma\n",
    "\n",
    "store = {}\n",
    "config = {\"configurable\": {\"session_id\":\"chat_message_1\"}}\n",
    "\n",
    "set_llm_cache(SQLiteCache(\".cache_prompt.sqlite\"))\n",
    "\n",
    "COLLECTION_NAME = \"medicine_docs\"\n",
    "PERSIST_DIRECTORY = \"vector_store/chroma/medicine_db7\"\n",
    "EMBEDDING_MODEL_NAME = 'text-embedding-3-small'\n",
    "from langchain_openai import OpenAIEmbeddings\n",
    "\n",
    "# Text Loading\n",
    "loader = TextLoader(path, encoding='utf-8')\n",
    "\n",
    "# 문서 load and split\n",
    "splitter = RecursiveCharacterTextSplitter(\n",
    "    chunk_size=1000,\n",
    "    chunk_overlap=100\n",
    ")\n",
    "\n",
    "docs = loader.load_and_split(splitter)\n",
    "\n",
    "# Vector Store 생성\n",
    "\n",
    "embedding_model = OpenAIEmbeddings(model=EMBEDDING_MODEL_NAME)\n",
    "\n",
    "vector_store = Chroma.from_documents(\n",
    "    documents=docs,\n",
    "    embedding=embedding_model,\n",
    "    collection_name=COLLECTION_NAME,\n",
    "    persist_directory=PERSIST_DIRECTORY\n",
    ")\n",
    "\n",
    "# Retriever 생성 - \"mmr\" 방식\n",
    "# MMR 방식 조회\n",
    "retriever = vector_store.as_retriever(\n",
    "    search_type='mmr',\n",
    "    search_kwargs = {\n",
    "        'k':5,\n",
    "        'fetch_k':10\n",
    "    }\n",
    ")\n",
    "\n"
   ]
  },
  {
   "cell_type": "code",
   "execution_count": 4,
   "metadata": {},
   "outputs": [],
   "source": [
    "store = {}\n",
    "config = {\"configurable\": {\"session_id\":\"chat_message_1\"}}\n",
    "\n",
    "def get_session_history(session_id):\n",
    "    \n",
    "    if session_id not in store:\n",
    "        store[session_id] = InMemoryChatMessageHistory()\n",
    "        return store[session_id]\n",
    "    \n",
    "    memory = ConversationBufferWindowMemory(\n",
    "        chat_memory=store[session_id], # 메세지 저장소 추가.\n",
    "        k=2,\n",
    "        return_messages=True,\n",
    "        message_key=\"history\"\n",
    "    )\n",
    "    # 1. memory에서 저장된 message들을 조회\n",
    "    message_list = memory.load_memory_variables({})['history']# list[Message]\n",
    "    # 2. 조회한 message들을 InMemoryChatMessageHistory에 추가\n",
    "    store[session_id] = InMemoryChatMessageHistory(messages=message_list)\n",
    "    # 3. 2의 InMemoryChatMessageHistory를 반환.\n",
    "    return store[session_id]"
   ]
  },
  {
   "cell_type": "code",
   "execution_count": null,
   "metadata": {},
   "outputs": [
    {
     "name": "stdout",
     "output_type": "stream",
     "text": [
      "두통에 효과적인 약을 다음과 같이 추천드립니다. 아래는 각 약물의 효능, 복용법, 주의사항과 함께 정리된 표입니다.\n",
      "\n",
      "| 약물명         | 효능 및 효과                                            | 복용법                                   | 주의사항                                              |\n",
      "|----------------|------------------------------------------------------|----------------------------------------|----------------------------------------------------|\n",
      "| 속콜펜정       | 두통, 치통, 발치 후 동통, 인후통, 귀의 통증 등 진통 | 만 15세 이상: 1회 1정, 1일 3회, 4시간 간격 | 과민증 환자, 알레르기 체질, 임신 가능성 있는 여성은 사용 전 상담 필요 |\n",
      "| 이부플러스생정 | 두통, 치통, 근육통, 생리통 등 진통 및 해열           | 만 15세 이상: 1회 2정, 1일 3회, 4시간 간격 | 과민증 환자, 임신 가능성 있는 여성은 사용 전 상담 필요 |\n",
      "| 타나센정       | 두통, 신경통, 생리통, 외상으로 인한 동통 등 진통    | 성인: 6시간마다 2정, 1일 최대 8정   | 소화성 궤양, 심부전 환자는 사용 전 상담 필요      |\n",
      "| 그날엔정       | 두통, 치통, 근육통, 생리통 등 진통 및 해열           | 15세 이상: 1회 2정, 1일 3회, 4시간 간격 | 과민증 환자, 소화성 궤양, 심부전 환자는 사용 전 상담 필요 |\n",
      "| 더마큐어로션   | 두통과는 관련 없으나 피부 가려움증 및 습진에 사용    | 1일 1~3회 환부에 바름                 | 피부 감염증이 있는 경우 사용 금지, 임신 및 수유 시 상담 필요 |\n",
      "\n",
      "### 복용 전 알아야 할 사항\n",
      "- 약을 복용하기 전에는 반드시 의사 또는 약사와 상담하여 본인의 건강 상태를 확인해야 합니다.\n",
      "- 복용 중에는 음주를 피하고, 정해진 용법과 용량을 잘 지켜야 합니다.\n",
      "- 만약 5~6회 복용하여도 증상이 개선되지 않을 경우 즉시 복용을 중단하고 의사와 상담해야 합니다.\n",
      "\n",
      "### 증상 악화 시 대처 방법\n",
      "- 두통이 심해지거나 지속될 경우, 의사의 진료를 받는 것이 중요합니다.\n",
      "- 추가적인 증상(구토, 시각장애 등)이 동반될 경우 즉시 응급실을 방문해야 합니다.\n",
      "\n",
      "### 주의사항 요약\n",
      "- 과민증 환자 및 특정 질환(간, 신장, 심장 질환 등)이 있는 경우 사용을 피해야 합니다.\n",
      "- 어린이의 손이 닿지 않는 곳에 보관하고, 습기와 빛을 피해 실온에서 보관해야 합니다. \n",
      "\n",
      "위의 정보를 참고하여 적절한 약을 선택하시기 바랍니다.\n"
     ]
    }
   ],
   "source": [
    "from langchain_core.output_parsers import StrOutputParser\n",
    "from langchain_core.chat_history import InMemoryChatMessageHistory\n",
    "from langchain.prompts import ChatPromptTemplate, MessagesPlaceholder\n",
    "from langchain_core.runnables.history import RunnableWithMessageHistory, RunnableLambda\n",
    "from langchain.memory import ConversationBufferWindowMemory\n",
    "from operator import itemgetter\n",
    "from langchain_openai import ChatOpenAI\n",
    "\n",
    "# Prompt Template 생성\n",
    "messages = [\n",
    "            (\"ai\", \"\"\"\n",
    "            너는 유능한 약사야. context 안에 있는 내용에 한 해서\n",
    "            어떤 효과가 있는지 알려주고 사용자가 입력한 증상에 맞는 약을 5개만 선택해서 알려줘.\n",
    "            복용이 간단하고 부작용이 적은 약을 우선적으로 추천해서 알려줘.\n",
    "            약을 복용하기 전에 반드시 알아야 할 사항은 꼭 알려줘.\n",
    "            증상이 악화될 경우 대처방법에 대해서 알려줘.\n",
    "            약에 따른 복용법에 대해서도 간단히 언급해줘.\n",
    "            주의사항 요약해서 알려줘. \n",
    "            위의 내용을 표로 정리해서 알려줘.\n",
    "            사용자가 말한 증상을 효능 부분에서 찾아서 그에 맞는 약을 알려줘.     \n",
    "            {context}\")\"\"\"),\n",
    "            MessagesPlaceholder(\"history\"), \n",
    "            (\"human\", \"{question}\")\n",
    "    ]\n",
    "\n",
    "prompt_template = ChatPromptTemplate(messages)\n",
    "\n",
    "model = ChatOpenAI(model='gpt-4o-mini')\n",
    "\n",
    "parser = StrOutputParser()\n",
    "\n",
    "def get_context(input_data:dict):\n",
    "    return retriever.invoke(input_data['question'])\n",
    "\n",
    "# Chain 구성 retriever (관련문서 조회) -> prompt_template -> model -> outputparser\n",
    "runnable = {'context':RunnableLambda(get_context), 'question':itemgetter(\"question\"), 'history':itemgetter('history')} | prompt_template | model | parser\n",
    "\n",
    "\n",
    "chain = RunnableWithMessageHistory(\n",
    "    runnable=runnable,\n",
    "    get_session_history=get_session_history,\n",
    "    input_messages_key=\"question\",\n",
    "    history_messages_key=\"history\"\n",
    ")\n",
    "\n",
    "config = {\"configurable\": {\"session_id\":\"id-1\"}}\n",
    "data = chain.invoke({\"question\":\"두통인데 약 추천해줘\"}, config)\n",
    "\n",
    "print(data)\n"
   ]
  },
  {
   "cell_type": "code",
   "execution_count": 6,
   "metadata": {},
   "outputs": [
    {
     "name": "stderr",
     "output_type": "stream",
     "text": [
      "/var/folders/8y/jsfncy6n39v2jylvdpm61nmh0000gn/T/ipykernel_35880/1752197439.py:10: LangChainDeprecationWarning: Please see the migration guide at: https://python.langchain.com/docs/versions/migrating_memory/\n",
      "  memory = ConversationBufferWindowMemory(\n"
     ]
    },
    {
     "name": "stdout",
     "output_type": "stream",
     "text": [
      "속콜펜정에 대한 자세한 설명은 다음과 같습니다.\n",
      "\n",
      "### 속콜펜정\n",
      "\n",
      "**효능 및 효과:**\n",
      "- 속콜펜정은 두통, 치통, 발치 후 동통, 인후통, 귀의 통증 등 다양한 통증을 완화하는 데 사용됩니다. 특히, 일반적인 두통 및 긴장성 두통에 효과적입니다.\n",
      "\n",
      "**주 성분:**\n",
      "- 주성분은 아세트아미노펜과 같은 진통제입니다. 이 성분은 뇌의 통증 신호를 차단하고, 열을 낮추는 작용을 합니다.\n",
      "\n",
      "**복용법:**\n",
      "- 성인(만 15세 이상): 1회 1정, 1일 3회 복용하며, 복용 간격은 최소 4시간 이상 두어야 합니다.\n",
      "- 필요에 따라 의사의 지시에 따라 복용량을 조정할 수 있습니다.\n",
      "\n",
      "**복용 시 주의사항:**\n",
      "- **과민증:** 아세트아미노펜에 과민증이 있는 환자는 복용을 피해야 합니다.\n",
      "- **간 질환:** 간 장애가 있는 환자, 특히 알코올을 자주 섭취하는 사람은 사용 시 주의해야 합니다.\n",
      "- **임신 및 수유:** 임신 중이거나 수유 중인 여성은 의사와 상담 후 사용해야 합니다.\n",
      "- **장기 복용:** 장기간 복용하지 말고, 5~6일 이상 복용 후에도 증상이 개선되지 않으면 의사와 상담해야 합니다.\n",
      "\n",
      "**부작용:**\n",
      "- 일반적으로 부작용이 적지만, 드물게 간 손상, 피부 발진, 알레르기 반응 등이 발생할 수 있습니다. 이러한 증상이 나타나면 즉시 복용을 중단하고 의사와 상담해야 합니다.\n",
      "\n",
      "**보관 방법:**\n",
      "- 어린이의 손이 닿지 않는 곳에 보관하고, 습기와 빛을 피해 실온에서 보관해야 합니다.\n",
      "\n",
      "속콜펜정은 일반적으로 안전성이 높은 약물로, 두통 완화에 효과적입니다. 그러나 복용 전에 자신의 건강 상태와 병력에 대해 충분히 고려하고, 필요할 경우 전문의와 상담하는 것이 좋습니다.\n"
     ]
    }
   ],
   "source": [
    "data = chain.invoke({\"question\":\"첫번째 약에 대해서 더 설명해줘\"}, config)\n",
    "\n",
    "print(data)"
   ]
  },
  {
   "cell_type": "code",
   "execution_count": 32,
   "metadata": {},
   "outputs": [],
   "source": []
  },
  {
   "cell_type": "code",
   "execution_count": null,
   "metadata": {},
   "outputs": [],
   "source": []
  }
 ],
 "metadata": {
  "kernelspec": {
   "display_name": "langchain",
   "language": "python",
   "name": "python3"
  },
  "language_info": {
   "codemirror_mode": {
    "name": "ipython",
    "version": 3
   },
   "file_extension": ".py",
   "mimetype": "text/x-python",
   "name": "python",
   "nbconvert_exporter": "python",
   "pygments_lexer": "ipython3",
   "version": "3.12.7"
  }
 },
 "nbformat": 4,
 "nbformat_minor": 2
}
